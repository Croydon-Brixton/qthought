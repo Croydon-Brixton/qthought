{
 "cells": [
  {
   "cell_type": "code",
   "execution_count": 1,
   "metadata": {},
   "outputs": [],
   "source": [
    "import qthought.utils as ut\n",
    "from qthought.protocol import Protocol, ProtocolStep\n",
    "from qthought.quantumsystem import QuantumSystem\n",
    "from qthought.agents import observe\n",
    "from projectq.ops import H\n",
    "from qthought.inference_procedures import forward_inference, backward_inference"
   ]
  },
  {
   "cell_type": "markdown",
   "metadata": {},
   "source": [
    "## 1. Define Hardy Protocol steps"
   ]
  },
  {
   "cell_type": "code",
   "execution_count": 2,
   "metadata": {},
   "outputs": [],
   "source": [
    "def action1(qsys:QuantumSystem):\n",
    "    H | qsys['s']\n",
    "    \n",
    "step1 = ProtocolStep(domain={'Qubit': 's'},\n",
    "                     descr = 'Prepare Qubit s',\n",
    "                     time  = 0,\n",
    "                     action = action1)"
   ]
  },
  {
   "cell_type": "code",
   "execution_count": 3,
   "metadata": {},
   "outputs": [],
   "source": [
    "def action1(qsys:QuantumSystem):\n",
    "    H | qsys['s']\n",
    "    \n",
    "step1 = ProtocolStep(domain={'Qubit': 's'},\n",
    "                     descr = 'Prepare Qubit s',\n",
    "                     time  = 0,\n",
    "                     action = action1)"
   ]
  },
  {
   "cell_type": "code",
   "execution_count": 4,
   "metadata": {},
   "outputs": [],
   "source": [
    "def action2(qsys:QuantumSystem):\n",
    "    observe(qsys['Friend_memory'], qsys['s'])\n",
    "    \n",
    "step2 = ProtocolStep(domain={'Qubit': 's',\n",
    "                             'AgentMemory': 'Friend'},\n",
    "                     descr = 'Prepare Qubit s',\n",
    "                     time  = 1,\n",
    "                     action = action2)"
   ]
  },
  {
   "cell_type": "code",
   "execution_count": 5,
   "metadata": {},
   "outputs": [],
   "source": [
    "def action3(qsys:QuantumSystem):\n",
    "    observe(qsys['Friend_memory'], qsys['s'])\n",
    "    \n",
    "step3 = ProtocolStep(domain={'Qubit': 's',\n",
    "                             'AgentMemory': 'Friend'},\n",
    "                     descr = 'Prepare Qubit s',\n",
    "                     time  = 1,\n",
    "                     action = action2)"
   ]
  },
  {
   "cell_type": "markdown",
   "metadata": {},
   "source": [
    "## 2. Assemble Hardy Protocol "
   ]
  },
  {
   "cell_type": "markdown",
   "metadata": {},
   "source": [
    "## 3. Run Hardy Protocol"
   ]
  },
  {
   "cell_type": "markdown",
   "metadata": {},
   "source": [
    "## 4. Calculate Agents predictions"
   ]
  },
  {
   "cell_type": "code",
   "execution_count": null,
   "metadata": {},
   "outputs": [],
   "source": []
  }
 ],
 "metadata": {
  "kernelspec": {
   "display_name": "Python 3",
   "language": "python",
   "name": "python3"
  },
  "language_info": {
   "codemirror_mode": {
    "name": "ipython",
    "version": 3
   },
   "file_extension": ".py",
   "mimetype": "text/x-python",
   "name": "python",
   "nbconvert_exporter": "python",
   "pygments_lexer": "ipython3",
   "version": "3.6.6"
  }
 },
 "nbformat": 4,
 "nbformat_minor": 2
}
