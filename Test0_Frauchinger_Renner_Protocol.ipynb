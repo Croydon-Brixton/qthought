{
 "cells": [
  {
   "cell_type": "code",
   "execution_count": 1,
   "metadata": {
    "scrolled": true
   },
   "outputs": [],
   "source": [
    "import sys\n",
    "import os\n",
    "import warnings\n",
    "warnings.filterwarnings('ignore')\n",
    "#from copy import deepcopy\n",
    "sys.path.insert(0,'C:\\\\Users\\\\Simon\\\\CloudStation\\\\Studium ETH\\\\18HS\\\\#2 Frauchinger-Renner Project\\\\Coding\\\\frauchinger-renner-program\\\\v3 - protocol (beta)\\\\lib\\\\utils')"
   ]
  },
  {
   "cell_type": "markdown",
   "metadata": {},
   "source": [
    "## Quantum imports"
   ]
  },
  {
   "cell_type": "code",
   "execution_count": 2,
   "metadata": {},
   "outputs": [],
   "source": [
    "import qthought.utils as ut\n",
    "from qthought.FR_protocol import *\n",
    "from qthought.protocol import Protocol\n",
    "from qthought.quantumsystem import QuantumSystem"
   ]
  },
  {
   "cell_type": "markdown",
   "metadata": {},
   "source": [
    "## Test calculation of TA"
   ]
  },
  {
   "cell_type": "code",
   "execution_count": 3,
   "metadata": {},
   "outputs": [
    {
     "data": {
      "text/plain": [
       "Step 0: Initialize R(t:1)\n",
       "Step 1: ALICE observes R(t:2)\n",
       "Step 2: Apply H to S controlled on ALICE_MEMORY(t:4)\n",
       "Step 3: BOB measures S(t:5)\n",
       "Step 4: BOB makes an inference(t:6)\n",
       "Step 5: Reverse BOBs inference procedure(t:12)\n",
       "Step 6: Apply Hadamard on S, i.e. transform system S+BOB:  ok --> 1(s) (t:13)\n",
       "\n",
       "Requirements: \n",
       "------------------------------\n",
       "Qubit             ['s', 'r']\n",
       "AgentMemory(1)    ['Alice']\n",
       "Agent(1,1)        ['Bob']"
      ]
     },
     "execution_count": 3,
     "metadata": {},
     "output_type": "execute_result"
    }
   ],
   "source": [
    "# Subprotocol to calculate TA\n",
    "p_TA = Protocol()\n",
    "steps = [step1, step2, step4, step5, step6,\n",
    "         step12, step13]\n",
    "\n",
    "for step in steps:\n",
    "    p_TA += step\n",
    "    \n",
    "p_TA"
   ]
  },
  {
   "cell_type": "code",
   "execution_count": 4,
   "metadata": {},
   "outputs": [],
   "source": [
    "#Alternative Syntax for the above\n",
    "# steps = [step1, step2, step4, step5, step6,\n",
    "#         step12, step13]\n",
    "# p_TA = sum(steps)\n",
    "# p_TA"
   ]
  },
  {
   "cell_type": "code",
   "execution_count": 5,
   "metadata": {},
   "outputs": [
    {
     "name": "stdout",
     "output_type": "stream",
     "text": [
      "Require Qubit s\n",
      "Require Qubit r\n",
      "Require AgentMemory(1) Alice\n",
      "Require Agent(1,1) Bob\n",
      "----- Case 0 -----\n",
      "0 Initialize R t:1\n",
      "State:\n",
      "0.58|0000\u001b[0m\u001b[31m0\u001b[0m\u001b[34m0\u001b[0m\u001b[32m0\u001b[0m> + 0.82|0000\u001b[0m\u001b[31m0\u001b[0m\u001b[34m1\u001b[0m\u001b[32m0\u001b[0m>\n",
      "1 ALICE observes R t:2\n",
      "State:\n",
      "0.58|0000\u001b[0m\u001b[31m0\u001b[0m\u001b[34m0\u001b[0m\u001b[32m0\u001b[0m> + 0.82|0000\u001b[0m\u001b[31m1\u001b[0m\u001b[34m1\u001b[0m\u001b[32m0\u001b[0m>\n",
      "Projecting to subspace r=0\n",
      "1.0|0000\u001b[0m\u001b[31m0\u001b[0m\u001b[34m0\u001b[0m\u001b[32m0\u001b[0m>\n",
      "2 Apply H to S controlled on ALICE_MEMORY t:4\n",
      "State:\n",
      "1.0|0000\u001b[0m\u001b[31m0\u001b[0m\u001b[34m0\u001b[0m\u001b[32m0\u001b[0m>\n",
      "3 BOB measures S t:5\n",
      "State:\n",
      "1.0|0000\u001b[0m\u001b[31m0\u001b[0m\u001b[34m0\u001b[0m\u001b[32m0\u001b[0m>\n",
      "4 BOB makes an inference t:6\n",
      "State:\n",
      "1.0|0000\u001b[0m\u001b[31m0\u001b[0m\u001b[34m0\u001b[0m\u001b[32m0\u001b[0m>\n",
      "5 Reverse BOBs inference procedure t:12\n",
      "State:\n",
      "1.0|0000\u001b[0m\u001b[31m0\u001b[0m\u001b[34m0\u001b[0m\u001b[32m0\u001b[0m>\n",
      "6 Apply Hadamard on S, i.e. transform system S+BOB:  ok --> 1(s)  t:13\n",
      "State:\n",
      "0.71|0000\u001b[0m\u001b[31m0\u001b[0m\u001b[34m0\u001b[0m\u001b[32m0\u001b[0m> + 0.71|0000\u001b[0m\u001b[31m0\u001b[0m\u001b[34m0\u001b[0m\u001b[32m1\u001b[0m>\n",
      "Quantum system reset to: 0000000\n",
      "----- Case 1 -----\n",
      "0 Initialize R t:1\n",
      "State:\n",
      "0.58|0000\u001b[0m\u001b[31m0\u001b[0m\u001b[34m0\u001b[0m\u001b[32m0\u001b[0m> + 0.82|0000\u001b[0m\u001b[31m0\u001b[0m\u001b[34m1\u001b[0m\u001b[32m0\u001b[0m>\n",
      "1 ALICE observes R t:2\n",
      "State:\n",
      "0.58|0000\u001b[0m\u001b[31m0\u001b[0m\u001b[34m0\u001b[0m\u001b[32m0\u001b[0m> + 0.82|0000\u001b[0m\u001b[31m1\u001b[0m\u001b[34m1\u001b[0m\u001b[32m0\u001b[0m>\n",
      "Projecting to subspace r=1\n",
      "1.0|0000\u001b[0m\u001b[31m1\u001b[0m\u001b[34m1\u001b[0m\u001b[32m0\u001b[0m>\n",
      "2 Apply H to S controlled on ALICE_MEMORY t:4\n",
      "State:\n",
      "0.71|0000\u001b[0m\u001b[31m1\u001b[0m\u001b[34m1\u001b[0m\u001b[32m0\u001b[0m> + 0.71|0000\u001b[0m\u001b[31m1\u001b[0m\u001b[34m1\u001b[0m\u001b[32m1\u001b[0m>\n",
      "3 BOB measures S t:5\n",
      "State:\n",
      "0.71|0000\u001b[0m\u001b[31m1\u001b[0m\u001b[34m1\u001b[0m\u001b[32m0\u001b[0m> + 0.71|0001\u001b[0m\u001b[31m1\u001b[0m\u001b[34m1\u001b[0m\u001b[32m1\u001b[0m>\n",
      "4 BOB makes an inference t:6\n",
      "State:\n",
      "0.71|0000\u001b[0m\u001b[31m1\u001b[0m\u001b[34m1\u001b[0m\u001b[32m0\u001b[0m> + 0.71|0001\u001b[0m\u001b[31m1\u001b[0m\u001b[34m1\u001b[0m\u001b[32m1\u001b[0m>\n",
      "5 Reverse BOBs inference procedure t:12\n",
      "State:\n",
      "0.71|0000\u001b[0m\u001b[31m1\u001b[0m\u001b[34m1\u001b[0m\u001b[32m0\u001b[0m> + 0.71|0000\u001b[0m\u001b[31m1\u001b[0m\u001b[34m1\u001b[0m\u001b[32m1\u001b[0m>\n",
      "6 Apply Hadamard on S, i.e. transform system S+BOB:  ok --> 1(s)  t:13\n",
      "State:\n",
      "1.0|0000\u001b[0m\u001b[31m1\u001b[0m\u001b[34m1\u001b[0m\u001b[32m0\u001b[0m>\n",
      "Quantum system reset to: 0000000\n"
     ]
    }
   ],
   "source": [
    "from qthought.inference_procedures import forward_inference\n",
    "TA = forward_inference(p_TA, \n",
    "                       'r', 2,\n",
    "                       's', 13,\n",
    "                       silent=False)"
   ]
  },
  {
   "cell_type": "code",
   "execution_count": 6,
   "metadata": {
    "scrolled": true
   },
   "outputs": [
    {
     "data": {
      "text/plain": [
       "In:(r:t2)             |  Out: (s:t13)\n",
       "--------------------------------------------\n",
       "           0          |        [0, 1]\n",
       "           1          |        [0]"
      ]
     },
     "execution_count": 6,
     "metadata": {},
     "output_type": "execute_result"
    }
   ],
   "source": [
    "TA"
   ]
  },
  {
   "cell_type": "markdown",
   "metadata": {},
   "source": [
    "## Test calculation of TB"
   ]
  },
  {
   "cell_type": "code",
   "execution_count": 7,
   "metadata": {
    "scrolled": true
   },
   "outputs": [
    {
     "data": {
      "text/plain": [
       "Step 0: Initialize R(t:1)\n",
       "Step 1: ALICE observes R(t:2)\n",
       "Step 2: Apply H to S controlled on ALICE_MEMORY(t:4)\n",
       "Step 3: BOB measures S(t:5)\n",
       "\n",
       "Requirements: \n",
       "------------------------------\n",
       "Qubit             ['s', 'r']\n",
       "AgentMemory(1)    ['Alice', 'Bob']"
      ]
     },
     "execution_count": 7,
     "metadata": {},
     "output_type": "execute_result"
    }
   ],
   "source": [
    "# Subprotocol for TB\n",
    "p_TB = Protocol()\n",
    "steps = [step1, step2, step4, step5]\n",
    "\n",
    "for step in steps:\n",
    "    p_TB += step\n",
    "    \n",
    "p_TB"
   ]
  },
  {
   "cell_type": "code",
   "execution_count": 8,
   "metadata": {},
   "outputs": [
    {
     "name": "stdout",
     "output_type": "stream",
     "text": [
      "Require Qubit s\n",
      "Require Qubit r\n",
      "Require AgentMemory(1) Alice\n",
      "Require AgentMemory(1) Bob\n",
      "----- Case 0 -----\n",
      "0 Initialize R t:1\n",
      "State:\n",
      "0.58|0\u001b[0m\u001b[31m0\u001b[0m\u001b[34m0\u001b[0m\u001b[32m0\u001b[0m> + 0.82|0\u001b[0m\u001b[31m0\u001b[0m\u001b[34m1\u001b[0m\u001b[32m0\u001b[0m>\n",
      "1 ALICE observes R t:2\n",
      "State:\n",
      "0.58|0\u001b[0m\u001b[31m0\u001b[0m\u001b[34m0\u001b[0m\u001b[32m0\u001b[0m> + 0.82|0\u001b[0m\u001b[31m1\u001b[0m\u001b[34m1\u001b[0m\u001b[32m0\u001b[0m>\n",
      "Projecting to subspace r=0\n",
      "1.0|0\u001b[0m\u001b[31m0\u001b[0m\u001b[34m0\u001b[0m\u001b[32m0\u001b[0m>\n",
      "2 Apply H to S controlled on ALICE_MEMORY t:4\n",
      "State:\n",
      "1.0|0\u001b[0m\u001b[31m0\u001b[0m\u001b[34m0\u001b[0m\u001b[32m0\u001b[0m>\n",
      "3 BOB measures S t:5\n",
      "State:\n",
      "1.0|0\u001b[0m\u001b[31m0\u001b[0m\u001b[34m0\u001b[0m\u001b[32m0\u001b[0m>\n",
      "Quantum system reset to: 0000\n",
      "----- Case 1 -----\n",
      "0 Initialize R t:1\n",
      "State:\n",
      "0.58|0\u001b[0m\u001b[31m0\u001b[0m\u001b[34m0\u001b[0m\u001b[32m0\u001b[0m> + 0.82|0\u001b[0m\u001b[31m0\u001b[0m\u001b[34m1\u001b[0m\u001b[32m0\u001b[0m>\n",
      "1 ALICE observes R t:2\n",
      "State:\n",
      "0.58|0\u001b[0m\u001b[31m0\u001b[0m\u001b[34m0\u001b[0m\u001b[32m0\u001b[0m> + 0.82|0\u001b[0m\u001b[31m1\u001b[0m\u001b[34m1\u001b[0m\u001b[32m0\u001b[0m>\n",
      "Projecting to subspace r=1\n",
      "1.0|0\u001b[0m\u001b[31m1\u001b[0m\u001b[34m1\u001b[0m\u001b[32m0\u001b[0m>\n",
      "2 Apply H to S controlled on ALICE_MEMORY t:4\n",
      "State:\n",
      "0.71|0\u001b[0m\u001b[31m1\u001b[0m\u001b[34m1\u001b[0m\u001b[32m0\u001b[0m> + 0.71|0\u001b[0m\u001b[31m1\u001b[0m\u001b[34m1\u001b[0m\u001b[32m1\u001b[0m>\n",
      "3 BOB measures S t:5\n",
      "State:\n",
      "0.71|0\u001b[0m\u001b[31m1\u001b[0m\u001b[34m1\u001b[0m\u001b[32m0\u001b[0m> + 0.71|1\u001b[0m\u001b[31m1\u001b[0m\u001b[34m1\u001b[0m\u001b[32m1\u001b[0m>\n",
      "Quantum system reset to: 0000\n"
     ]
    }
   ],
   "source": [
    "from qthought.inference_procedures import backward_inference\n",
    "TB = backward_inference(p_TB, \n",
    "                       'r', 2, \n",
    "                       's', 5,\n",
    "                       silent=False)"
   ]
  },
  {
   "cell_type": "code",
   "execution_count": 9,
   "metadata": {},
   "outputs": [
    {
     "data": {
      "text/plain": [
       "In:(s:t5)             |  Out: (r:t2)\n",
       "-------------------------------------------\n",
       "           0          |        [0, 1]\n",
       "           1          |        [1]"
      ]
     },
     "execution_count": 9,
     "metadata": {},
     "output_type": "execute_result"
    }
   ],
   "source": [
    "TB"
   ]
  },
  {
   "cell_type": "markdown",
   "metadata": {},
   "source": [
    "## Test calculation of TU"
   ]
  },
  {
   "cell_type": "code",
   "execution_count": 10,
   "metadata": {},
   "outputs": [
    {
     "data": {
      "text/plain": [
       "Step 0: Initialize R(t:1)\n",
       "Step 1: ALICE observes R(t:2)\n",
       "Step 2: ALICE makes an inference(t:3)\n",
       "Step 3: Apply H to S controlled on ALICE_MEMORY(t:4)\n",
       "Step 4: BOB measures S(t:5)\n",
       "Step 5: BOB makes an inference(t:6)\n",
       "Step 6: Reverse Alice reasoning (Step1: in ok --> 1(R)(t:7)\n",
       "Step 7: Perform Hadamard on R (Step2: in ok --> 1(R)(t:8)\n",
       "Step 8: URSULA measures ALICEs lab (i.e. r)(t:9)\n",
       "\n",
       "Requirements: \n",
       "------------------------------\n",
       "Qubit             ['s', 'r']\n",
       "AgentMemory(1)    ['Ursula']\n",
       "Agent(1,1)        ['Alice', 'Bob']"
      ]
     },
     "execution_count": 10,
     "metadata": {},
     "output_type": "execute_result"
    }
   ],
   "source": [
    "p_TU = Protocol()\n",
    "steps = [step1, step2, step3, step4, step5,\n",
    "         step6, step7, step8 ,step9]\n",
    "\n",
    "for step in steps:\n",
    "    p_TU += step\n",
    "    \n",
    "p_TU"
   ]
  },
  {
   "cell_type": "code",
   "execution_count": 11,
   "metadata": {},
   "outputs": [
    {
     "name": "stdout",
     "output_type": "stream",
     "text": [
      "Require Qubit s\n",
      "Require Qubit r\n",
      "Require AgentMemory(1) Ursula\n",
      "Require Agent(1,1) Alice\n",
      "Require Agent(1,1) Bob\n",
      "----- Case 0 -----\n",
      "0 Initialize R t:1\n",
      "State:\n",
      "0.58|0000\u001b[0m\u001b[31m0000\u001b[0m\u001b[34m0\u001b[0m\u001b[32m0\u001b[0m\u001b[35m0\u001b[0m> + 0.82|0000\u001b[0m\u001b[31m0000\u001b[0m\u001b[34m0\u001b[0m\u001b[32m1\u001b[0m\u001b[35m0\u001b[0m>\n",
      "1 ALICE observes R t:2\n",
      "State:\n",
      "0.58|0000\u001b[0m\u001b[31m0000\u001b[0m\u001b[34m0\u001b[0m\u001b[32m0\u001b[0m\u001b[35m0\u001b[0m> + 0.82|0000\u001b[0m\u001b[31m0001\u001b[0m\u001b[34m0\u001b[0m\u001b[32m1\u001b[0m\u001b[35m0\u001b[0m>\n",
      "2 ALICE makes an inference t:3\n",
      "State:\n",
      "0.58|0000\u001b[0m\u001b[31m0000\u001b[0m\u001b[34m0\u001b[0m\u001b[32m0\u001b[0m\u001b[35m0\u001b[0m> + 0.82|0000\u001b[0m\u001b[31m0001\u001b[0m\u001b[34m0\u001b[0m\u001b[32m1\u001b[0m\u001b[35m0\u001b[0m>\n",
      "3 Apply H to S controlled on ALICE_MEMORY t:4\n",
      "State:\n",
      "0.58|0000\u001b[0m\u001b[31m0000\u001b[0m\u001b[34m0\u001b[0m\u001b[32m0\u001b[0m\u001b[35m0\u001b[0m> + 0.58|0000\u001b[0m\u001b[31m0001\u001b[0m\u001b[34m0\u001b[0m\u001b[32m1\u001b[0m\u001b[35m0\u001b[0m> + 0.58|0000\u001b[0m\u001b[31m0001\u001b[0m\u001b[34m0\u001b[0m\u001b[32m1\u001b[0m\u001b[35m1\u001b[0m>\n",
      "4 BOB measures S t:5\n",
      "State:\n",
      "0.58|0000\u001b[0m\u001b[31m0000\u001b[0m\u001b[34m0\u001b[0m\u001b[32m0\u001b[0m\u001b[35m0\u001b[0m> + 0.58|0000\u001b[0m\u001b[31m0001\u001b[0m\u001b[34m0\u001b[0m\u001b[32m1\u001b[0m\u001b[35m0\u001b[0m> + 0.58|0001\u001b[0m\u001b[31m0001\u001b[0m\u001b[34m0\u001b[0m\u001b[32m1\u001b[0m\u001b[35m1\u001b[0m>\n",
      "Projecting to subspace s=0\n",
      "0.71|0000\u001b[0m\u001b[31m0000\u001b[0m\u001b[34m0\u001b[0m\u001b[32m0\u001b[0m\u001b[35m0\u001b[0m> + 0.71|0000\u001b[0m\u001b[31m0001\u001b[0m\u001b[34m0\u001b[0m\u001b[32m1\u001b[0m\u001b[35m0\u001b[0m>\n",
      "5 BOB makes an inference t:6\n",
      "State:\n",
      "0.71|0000\u001b[0m\u001b[31m0000\u001b[0m\u001b[34m0\u001b[0m\u001b[32m0\u001b[0m\u001b[35m0\u001b[0m> + 0.71|0000\u001b[0m\u001b[31m0001\u001b[0m\u001b[34m0\u001b[0m\u001b[32m1\u001b[0m\u001b[35m0\u001b[0m>\n",
      "6 Reverse Alice reasoning (Step1: in ok --> 1(R) t:7\n",
      "State:\n",
      "0.71|0000\u001b[0m\u001b[31m0000\u001b[0m\u001b[34m0\u001b[0m\u001b[32m0\u001b[0m\u001b[35m0\u001b[0m> + 0.71|0000\u001b[0m\u001b[31m0000\u001b[0m\u001b[34m0\u001b[0m\u001b[32m1\u001b[0m\u001b[35m0\u001b[0m>\n",
      "7 Perform Hadamard on R (Step2: in ok --> 1(R) t:8\n",
      "State:\n",
      "1.0|0000\u001b[0m\u001b[31m0000\u001b[0m\u001b[34m0\u001b[0m\u001b[32m0\u001b[0m\u001b[35m0\u001b[0m>\n",
      "8 URSULA measures ALICEs lab (i.e. r) t:9\n",
      "State:\n",
      "1.0|0000\u001b[0m\u001b[31m0000\u001b[0m\u001b[34m0\u001b[0m\u001b[32m0\u001b[0m\u001b[35m0\u001b[0m>\n",
      "Quantum system reset to: 00000000000\n",
      "----- Case 1 -----\n",
      "0 Initialize R t:1\n",
      "State:\n",
      "0.58|0000\u001b[0m\u001b[31m0000\u001b[0m\u001b[34m0\u001b[0m\u001b[32m0\u001b[0m\u001b[35m0\u001b[0m> + 0.82|0000\u001b[0m\u001b[31m0000\u001b[0m\u001b[34m0\u001b[0m\u001b[32m1\u001b[0m\u001b[35m0\u001b[0m>\n",
      "1 ALICE observes R t:2\n",
      "State:\n",
      "0.58|0000\u001b[0m\u001b[31m0000\u001b[0m\u001b[34m0\u001b[0m\u001b[32m0\u001b[0m\u001b[35m0\u001b[0m> + 0.82|0000\u001b[0m\u001b[31m0001\u001b[0m\u001b[34m0\u001b[0m\u001b[32m1\u001b[0m\u001b[35m0\u001b[0m>\n",
      "2 ALICE makes an inference t:3\n",
      "State:\n",
      "0.58|0000\u001b[0m\u001b[31m0000\u001b[0m\u001b[34m0\u001b[0m\u001b[32m0\u001b[0m\u001b[35m0\u001b[0m> + 0.82|0000\u001b[0m\u001b[31m0001\u001b[0m\u001b[34m0\u001b[0m\u001b[32m1\u001b[0m\u001b[35m0\u001b[0m>\n",
      "3 Apply H to S controlled on ALICE_MEMORY t:4\n",
      "State:\n",
      "0.58|0000\u001b[0m\u001b[31m0000\u001b[0m\u001b[34m0\u001b[0m\u001b[32m0\u001b[0m\u001b[35m0\u001b[0m> + 0.58|0000\u001b[0m\u001b[31m0001\u001b[0m\u001b[34m0\u001b[0m\u001b[32m1\u001b[0m\u001b[35m0\u001b[0m> + 0.58|0000\u001b[0m\u001b[31m0001\u001b[0m\u001b[34m0\u001b[0m\u001b[32m1\u001b[0m\u001b[35m1\u001b[0m>\n",
      "4 BOB measures S t:5\n",
      "State:\n",
      "0.58|0000\u001b[0m\u001b[31m0000\u001b[0m\u001b[34m0\u001b[0m\u001b[32m0\u001b[0m\u001b[35m0\u001b[0m> + 0.58|0000\u001b[0m\u001b[31m0001\u001b[0m\u001b[34m0\u001b[0m\u001b[32m1\u001b[0m\u001b[35m0\u001b[0m> + 0.58|0001\u001b[0m\u001b[31m0001\u001b[0m\u001b[34m0\u001b[0m\u001b[32m1\u001b[0m\u001b[35m1\u001b[0m>\n",
      "Projecting to subspace s=1\n",
      "1.0|0001\u001b[0m\u001b[31m0001\u001b[0m\u001b[34m0\u001b[0m\u001b[32m1\u001b[0m\u001b[35m1\u001b[0m>\n",
      "5 BOB makes an inference t:6\n",
      "State:\n",
      "1.0|0001\u001b[0m\u001b[31m0001\u001b[0m\u001b[34m0\u001b[0m\u001b[32m1\u001b[0m\u001b[35m1\u001b[0m>\n",
      "6 Reverse Alice reasoning (Step1: in ok --> 1(R) t:7\n",
      "State:\n",
      "1.0|0001\u001b[0m\u001b[31m0000\u001b[0m\u001b[34m0\u001b[0m\u001b[32m1\u001b[0m\u001b[35m1\u001b[0m>\n",
      "7 Perform Hadamard on R (Step2: in ok --> 1(R) t:8\n",
      "State:\n",
      "0.71|0001\u001b[0m\u001b[31m0000\u001b[0m\u001b[34m0\u001b[0m\u001b[32m0\u001b[0m\u001b[35m1\u001b[0m> + -0.71|0001\u001b[0m\u001b[31m0000\u001b[0m\u001b[34m0\u001b[0m\u001b[32m1\u001b[0m\u001b[35m1\u001b[0m>\n",
      "8 URSULA measures ALICEs lab (i.e. r) t:9\n",
      "State:\n",
      "0.71|0001\u001b[0m\u001b[31m0000\u001b[0m\u001b[34m0\u001b[0m\u001b[32m0\u001b[0m\u001b[35m1\u001b[0m> + -0.71|0001\u001b[0m\u001b[31m0000\u001b[0m\u001b[34m1\u001b[0m\u001b[32m1\u001b[0m\u001b[35m1\u001b[0m>\n",
      "Quantum system reset to: 00000000000\n"
     ]
    }
   ],
   "source": [
    "TU = backward_inference(p_TU, \n",
    "                       's', 5, \n",
    "                       'r', 9,\n",
    "                       silent=False)"
   ]
  },
  {
   "cell_type": "code",
   "execution_count": 12,
   "metadata": {},
   "outputs": [
    {
     "data": {
      "text/plain": [
       "In:(r:t9)             |  Out: (s:t5)\n",
       "-------------------------------------------\n",
       "           0          |        [0, 1]\n",
       "           1          |        [1]"
      ]
     },
     "execution_count": 12,
     "metadata": {},
     "output_type": "execute_result"
    }
   ],
   "source": [
    "TU"
   ]
  },
  {
   "cell_type": "markdown",
   "metadata": {},
   "source": [
    "## Check combining tables"
   ]
  },
  {
   "cell_type": "code",
   "execution_count": 13,
   "metadata": {},
   "outputs": [
    {
     "name": "stdout",
     "output_type": "stream",
     "text": [
      "In:(r:t2)             |  Out: (s:t13)\n",
      "--------------------------------------------\n",
      "           0          |        [0, 1]\n",
      "           1          |        [0]\n",
      "In:(s:t5)             |  Out: (s:t13)\n",
      "--------------------------------------------\n",
      "           0          |        [0, 1]\n",
      "           1          |        [0]\n",
      "In:(r:t9)             |  Out: (s:t13)\n",
      "--------------------------------------------\n",
      "           0          |        [0, 1]\n",
      "           1          |        [0]\n"
     ]
    }
   ],
   "source": [
    "from qthought.C import consistency\n",
    "\n",
    "TA_final = TA\n",
    "TB_final = consistency(TB, TA)\n",
    "TU_final = consistency(TU, TB_final)\n",
    "\n",
    "print(TA_final)\n",
    "print(TB_final)\n",
    "print(TU_final)"
   ]
  },
  {
   "cell_type": "markdown",
   "metadata": {},
   "source": [
    "## Test full protocol with inference tables:"
   ]
  },
  {
   "cell_type": "code",
   "execution_count": 14,
   "metadata": {},
   "outputs": [
    {
     "name": "stdout",
     "output_type": "stream",
     "text": [
      "Step 0: Initialize R(t:1)\n",
      "Step 1: ALICE observes R(t:2)\n",
      "Step 2: ALICE makes an inference(t:3)\n",
      "Step 3: Apply H to S controlled on ALICE_MEMORY(t:4)\n",
      "Step 4: BOB measures S(t:5)\n",
      "Step 5: BOB makes an inference(t:6)\n",
      "Step 6: Reverse Alice reasoning (Step1: in ok --> 1(R)(t:7)\n",
      "Step 7: Perform Hadamard on R (Step2: in ok --> 1(R)(t:8)\n",
      "Step 8: URSULA measures ALICEs lab (i.e. r)(t:9)\n",
      "Step 9: URSULA makes inference(t:10)\n",
      "Step 10: Reverse BOBs inference procedure(t:12)\n",
      "Step 11: Apply Hadamard on S, i.e. transform system S+BOB:  ok --> 1(s) (t:13)\n",
      "\n",
      "Requirements: \n",
      "------------------------------\n",
      "Qubit             ['s', 'r']\n",
      "Agent(1,1)        ['Alice', 'Bob', 'Ursula']\n",
      "\n"
     ]
    },
    {
     "data": {
      "text/plain": [
       "Requirements: \n",
       "------------------------------\n",
       "Qubit             ['s', 'r']\n",
       "Agent(1,1)        ['Alice', 'Bob', 'Ursula']"
      ]
     },
     "execution_count": 14,
     "metadata": {},
     "output_type": "execute_result"
    }
   ],
   "source": [
    "p = Protocol()\n",
    "steps = [step1, step2, step3, step4, step5,\n",
    "         step6, step7, step8, step9, step10,\n",
    "         step12, step13]\n",
    "\n",
    "for step in steps:\n",
    "    p += step\n",
    "\n",
    "print(p)\n",
    "p.requires"
   ]
  },
  {
   "cell_type": "code",
   "execution_count": 15,
   "metadata": {
    "scrolled": false
   },
   "outputs": [
    {
     "name": "stdout",
     "output_type": "stream",
     "text": [
      "----------------------------------------------------------------------\n",
      "Requiring quantum system:\n",
      "Require Qubit s\n",
      "Require Qubit r\n",
      "Require Agent(1,1) Alice\n",
      "Require Agent(1,1) Bob\n",
      "Require Agent(1,1) Ursula\n",
      "1.0|0000\u001b[0m\u001b[31m0000\u001b[0m\u001b[34m0000\u001b[0m\u001b[32m0\u001b[0m\u001b[35m0\u001b[0m>\n",
      "----------------------------------------------------------------------\n",
      "Initialize inference system\n",
      "1.0|0100\u001b[0m\u001b[31m0100\u001b[0m\u001b[34m0100\u001b[0m\u001b[32m0\u001b[0m\u001b[35m0\u001b[0m>\n",
      "----------------------------------------------------------------------\n",
      "Run protocol:\n",
      "----------------------------------------------------------------------\n",
      "Final Wavefunction before measurements:\n",
      "-0.29|0101\u001b[0m\u001b[31m0100\u001b[0m\u001b[34m1100\u001b[0m\u001b[32m1\u001b[0m\u001b[35m0\u001b[0m> + 0.29|0101\u001b[0m\u001b[31m0100\u001b[0m\u001b[34m1100\u001b[0m\u001b[32m1\u001b[0m\u001b[35m1\u001b[0m> + 0.87|0110\u001b[0m\u001b[31m0100\u001b[0m\u001b[34m1100\u001b[0m\u001b[32m0\u001b[0m\u001b[35m0\u001b[0m> + 0.29|0110\u001b[0m\u001b[31m0100\u001b[0m\u001b[34m1100\u001b[0m\u001b[32m0\u001b[0m\u001b[35m1\u001b[0m>\n",
      "----------------------------------------------------------------------\n",
      "Perform final measurements:\n",
      "Measure Ursulas meomry:\n",
      "-0.71|0101\u001b[0m\u001b[31m0100\u001b[0m\u001b[34m1100\u001b[0m\u001b[32m1\u001b[0m\u001b[35m0\u001b[0m> + 0.71|0101\u001b[0m\u001b[31m0100\u001b[0m\u001b[34m1100\u001b[0m\u001b[32m1\u001b[0m\u001b[35m1\u001b[0m>\n",
      "Measure Ursulas prediction:\n",
      "-0.71|0101\u001b[0m\u001b[31m0100\u001b[0m\u001b[34m1100\u001b[0m\u001b[32m1\u001b[0m\u001b[35m0\u001b[0m> + 0.71|0101\u001b[0m\u001b[31m0100\u001b[0m\u001b[34m1100\u001b[0m\u001b[32m1\u001b[0m\u001b[35m1\u001b[0m>\n",
      "Measure s:\n",
      "-1.0|0101\u001b[0m\u001b[31m0100\u001b[0m\u001b[34m1100\u001b[0m\u001b[32m1\u001b[0m\u001b[35m0\u001b[0m>\n",
      "['Ursula', 'Bob', 'Alice', 'r', 's']\n",
      "----------------------------------------------------------------------\n",
      "Analysis of winning condition:\n",
      "Ursula observes ok_bar\n",
      "Ursula predicts fail\n",
      "Wigner observes fail\n"
     ]
    }
   ],
   "source": [
    "print('-'*70)\n",
    "print('Requiring quantum system:')\n",
    "qsys = QuantumSystem(p.get_requirements())\n",
    "no_prediction_state = 1\n",
    "qsys.print_wavefunction()\n",
    "\n",
    "print('-'*70)\n",
    "print('Initialize inference system')\n",
    "qsys['Alice'].set_inference_table(TA_final, no_prediction_state)\n",
    "qsys['Bob'].set_inference_table(TB_final, no_prediction_state)\n",
    "qsys['Ursula'].set_inference_table(TU_final, no_prediction_state)\n",
    "\n",
    "qsys['Alice'].prep_inference()\n",
    "qsys['Bob'].prep_inference()\n",
    "qsys['Ursula'].prep_inference()\n",
    "qsys.print_wavefunction()\n",
    "\n",
    "print('-'*70)\n",
    "print('Run protocol:')\n",
    "p.run(qsys, silent=True)\n",
    "\n",
    "print('-'*70)\n",
    "print('Final Wavefunction before measurements:')\n",
    "qsys.print_wavefunction()\n",
    "\n",
    "print('-'*70)\n",
    "print('Perform final measurements:')\n",
    "\n",
    "print('Measure Ursulas meomry:')\n",
    "Measure | qsys['Ursula_memory']\n",
    "qsys.print_wavefunction()\n",
    "ok_bar = bool(readout(qsys['Ursula_memory']))\n",
    "#print('ok_bar=',ok_bar)\n",
    "\n",
    "print('Measure Ursulas prediction:')\n",
    "Measure | qsys['Ursula_prediction']\n",
    "qsys.print_wavefunction()\n",
    "#print(readout(qsys['Ursula_prediction']))\n",
    "U_predicts_fail = bool(1 - readout(qsys['Ursula_prediction']))\n",
    "#print('U_predicts_fail=',U_predicts_fail)\n",
    "\n",
    "print('Measure s:')\n",
    "Measure | qsys['s']\n",
    "qsys.print_wavefunction()\n",
    "ok = bool(readout(qsys['s']))\n",
    "#print('ok=',ok)\n",
    "\n",
    "print(qsys.subsystems[::-1])\n",
    "del qsys\n",
    "\n",
    "print('-'*70)\n",
    "print('Analysis of winning condition:')\n",
    "if ok_bar:\n",
    "    print('Ursula observes ok_bar')\n",
    "else:\n",
    "    print('Ursula observes fail_bar' )\n",
    "\n",
    "\n",
    "if U_predicts_fail:\n",
    "    print('Ursula predicts fail')\n",
    "else:\n",
    "    print('Ursula does not know Alices prediction' )\n",
    "    \n",
    "if ok:\n",
    "    print('Wigner observes ok')\n",
    "else:\n",
    "    print('Wigner observes fail' ) \n",
    "    \n",
    "if ok and ok_bar:\n",
    "    print('XXXXX Winning condition satisfied XXXXXX')"
   ]
  },
  {
   "cell_type": "code",
   "execution_count": null,
   "metadata": {},
   "outputs": [],
   "source": []
  }
 ],
 "metadata": {
  "kernelspec": {
   "display_name": "Python 3",
   "language": "python",
   "name": "python3"
  },
  "language_info": {
   "codemirror_mode": {
    "name": "ipython",
    "version": 3
   },
   "file_extension": ".py",
   "mimetype": "text/x-python",
   "name": "python",
   "nbconvert_exporter": "python",
   "pygments_lexer": "ipython3",
   "version": "3.6.6"
  }
 },
 "nbformat": 4,
 "nbformat_minor": 2
}
