{
 "cells": [
  {
   "cell_type": "markdown",
   "metadata": {},
   "source": [
    "#A simple example to illustrate how to use qthought"
   ]
  },
  {
   "cell_type": "code",
   "execution_count": 1,
   "metadata": {
    "scrolled": true
   },
   "outputs": [],
   "source": [
    "import qthought.utils as ut\n",
    "from qthought.protocol import Protocol, ProtocolStep\n",
    "from qthought.quantumsystem import QuantumSystem\n",
    "from qthought.agents import observe\n",
    "from qthought.inference_procedures import forward_inference, backward_inference\n",
    "from projectq.ops import H"
   ]
  },
  {
   "cell_type": "markdown",
   "metadata": {},
   "source": [
    "## 1. Define protocol steps"
   ]
  },
  {
   "cell_type": "code",
   "execution_count": 2,
   "metadata": {},
   "outputs": [],
   "source": [
    "def action1(qsys:QuantumSystem):\n",
    "    H | qsys['s']\n",
    "    \n",
    "step1 = ProtocolStep(domain={'Qubit': 's'},\n",
    "                     descr = 'Prepare Qubit s by applying H ',\n",
    "                     time  = 0,\n",
    "                     action = action1)"
   ]
  },
  {
   "cell_type": "code",
   "execution_count": 3,
   "metadata": {},
   "outputs": [],
   "source": [
    "def action2(qsys:QuantumSystem):\n",
    "    observe(qsys['Alice_memory'],qsys['s'])\n",
    "    \n",
    "step2 = ProtocolStep(domain={'Qubit': 's',\n",
    "                             'AgentMemory(1)': 'Alice'},\n",
    "                     descr = 'Alice observes s',\n",
    "                     time  = 1,\n",
    "                     action = action2)"
   ]
  },
  {
   "cell_type": "code",
   "execution_count": 4,
   "metadata": {},
   "outputs": [],
   "source": [
    "def action3(qsys:QuantumSystem):\n",
    "    observe(qsys['Bob_memory'],qsys['s'])\n",
    "    \n",
    "step3 = ProtocolStep(domain={'Qubit': 's',\n",
    "                             'AgentMemory(1)': 'Bob'},\n",
    "                     descr = 'Bob observes s',\n",
    "                     time  = 2,\n",
    "                     action = action3)"
   ]
  },
  {
   "cell_type": "markdown",
   "metadata": {},
   "source": [
    "## 2. Assemble protocol"
   ]
  },
  {
   "cell_type": "code",
   "execution_count": 5,
   "metadata": {
    "scrolled": false
   },
   "outputs": [
    {
     "data": {
      "text/plain": [
       "Step 0: Prepare Qubit s by applying H (t:0)\n",
       "Step 1: Alice observes s(t:1)\n",
       "Step 2: Bob observes s(t:2)\n",
       "\n",
       "Requirements: \n",
       "------------------------------\n",
       "Qubit             ['s']\n",
       "AgentMemory(1)    ['Alice', 'Bob']"
      ]
     },
     "execution_count": 5,
     "metadata": {},
     "output_type": "execute_result"
    }
   ],
   "source": [
    "#p = Protocol()\n",
    "p = step1 + step2 + step3\n",
    "p"
   ]
  },
  {
   "cell_type": "markdown",
   "metadata": {},
   "source": [
    "## 3. Run protocol"
   ]
  },
  {
   "cell_type": "code",
   "execution_count": 6,
   "metadata": {
    "scrolled": true
   },
   "outputs": [
    {
     "name": "stdout",
     "output_type": "stream",
     "text": [
      "Require Qubit s\n",
      "Require AgentMemory(1) Alice\n",
      "Require AgentMemory(1) Bob\n",
      "0 Prepare Qubit s by applying H  t:0\n",
      "State:\n",
      "0.71|000> + 0.71|001>\n",
      "1 Alice observes s t:1\n",
      "State:\n",
      "0.71|000> + 0.71|011>\n",
      "2 Bob observes s t:2\n",
      "State:\n",
      "0.71|000> + 0.71|111>\n"
     ]
    }
   ],
   "source": [
    "qsys = QuantumSystem(p.get_requirements())\n",
    "p.run(qsys)"
   ]
  },
  {
   "cell_type": "markdown",
   "metadata": {},
   "source": [
    "## 4. Calculate Agent's predictions "
   ]
  },
  {
   "cell_type": "code",
   "execution_count": 7,
   "metadata": {},
   "outputs": [
    {
     "data": {
      "text/plain": [
       "In:(Alice_memory:t1)           |         Out: (Bob_memory:t2)   \n",
       "---------------------------------------------------------\n",
       "          0          |         [0]\n",
       "          1          |         [1]"
      ]
     },
     "execution_count": 7,
     "metadata": {},
     "output_type": "execute_result"
    }
   ],
   "source": [
    "forward_inference(p, 'Alice_memory', 1, 'Bob_memory', 2)"
   ]
  },
  {
   "cell_type": "code",
   "execution_count": 8,
   "metadata": {},
   "outputs": [
    {
     "data": {
      "text/plain": [
       "In:(Bob_memory:t2)   |         Out: (Alice_memory:t1)   \n",
       "---------------------------------------------------------\n",
       "          0          |         [0]\n",
       "          1          |         [1]"
      ]
     },
     "execution_count": 8,
     "metadata": {},
     "output_type": "execute_result"
    }
   ],
   "source": [
    "backward_inference(p, 'Alice_memory', 1, 'Bob_memory', 2)"
   ]
  },
  {
   "cell_type": "code",
   "execution_count": 9,
   "metadata": {},
   "outputs": [
    {
     "data": {
      "text/plain": [
       "QuantumSystem object: \n",
       "Nqubits:      3 \n",
       "Print order:  ['Bob_memory', 'Alice_memory', 's']\n",
       "Wavefunction: \n",
       "0.71|000> + 0.71|111>"
      ]
     },
     "execution_count": 9,
     "metadata": {},
     "output_type": "execute_result"
    }
   ],
   "source": [
    "qsys"
   ]
  }
 ],
 "metadata": {
  "kernelspec": {
   "display_name": "Python 2",
   "language": "python",
   "name": "python2"
  },
  "language_info": {
   "codemirror_mode": {
    "name": "ipython",
    "version": 2
   },
   "file_extension": ".py",
   "mimetype": "text/x-python",
   "name": "python",
   "nbconvert_exporter": "python",
   "pygments_lexer": "ipython2",
   "version": "2.7.15"
  },
  "pycharm": {
   "stem_cell": {
    "cell_type": "raw",
    "metadata": {
     "collapsed": false
    },
    "source": []
   }
  }
 },
 "nbformat": 4,
 "nbformat_minor": 2
}
