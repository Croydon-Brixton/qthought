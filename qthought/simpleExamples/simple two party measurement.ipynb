{
 "cells": [
  {
   "cell_type": "markdown",
   "metadata": {},
   "source": [
    "# A simple example to illustrate how to use qthought"
   ]
  },
  {
   "cell_type": "code",
   "execution_count": 18,
   "metadata": {},
   "outputs": [],
   "source": [
    "import sys\n",
    "import os\n",
    "# to run the example, set the following path to the folder path of qthought on your machine\n",
    "sys.path.append(os.path.abspath('/Users/nuri/qthought/qthought')) "
   ]
  },
  {
   "cell_type": "code",
   "execution_count": 19,
   "metadata": {
    "scrolled": true
   },
   "outputs": [],
   "source": [
    "import qthought.utils as ut\n",
    "from qthought.protocol import Protocol, ProtocolStep\n",
    "from qthought.quantumsystem import QuantumSystem\n",
    "from qthought.agents import Agent\n",
    "from qthought.interpretations.copenhagen_theory import *\n",
    "from projectq.ops import H"
   ]
  },
  {
   "cell_type": "markdown",
   "metadata": {},
   "source": [
    "## 1. Define protocol steps"
   ]
  },
  {
   "cell_type": "code",
   "execution_count": 20,
   "metadata": {},
   "outputs": [],
   "source": [
    "def action1(qsys:QuantumSystem):\n",
    "    H | qsys['s']\n",
    "    \n",
    "step1 = ProtocolStep(domain={'Qubit': 's'},\n",
    "                     descr = 'Prepare Qubit s by applying H ',\n",
    "                     time  = 0,\n",
    "                     action = action1)"
   ]
  },
  {
   "cell_type": "code",
   "execution_count": 21,
   "metadata": {},
   "outputs": [],
   "source": [
    "def action2(qsys:QuantumSystem):\n",
    "    observe(qsys['Alice_memory'],qsys['s'])\n",
    "    \n",
    "step2 = ProtocolStep(domain={'Qubit': 's',\n",
    "                             'AgentMemory(1)': 'Alice'},\n",
    "                     descr = 'Alice observes s',\n",
    "                     time  = 1,\n",
    "                     action = action2)"
   ]
  },
  {
   "cell_type": "code",
   "execution_count": 22,
   "metadata": {},
   "outputs": [],
   "source": [
    "def action3(qsys:QuantumSystem):\n",
    "    observe(qsys['Bob_memory'],qsys['s'])\n",
    "    \n",
    "step3 = ProtocolStep(domain={'Qubit': 's',\n",
    "                             'AgentMemory(1)': 'Bob'},\n",
    "                     descr = 'Bob observes s',\n",
    "                     time  = 2,\n",
    "                     action = action3)"
   ]
  },
  {
   "cell_type": "markdown",
   "metadata": {},
   "source": [
    "## 2. Assemble protocol"
   ]
  },
  {
   "cell_type": "code",
   "execution_count": 23,
   "metadata": {
    "scrolled": false
   },
   "outputs": [
    {
     "data": {
      "text/plain": [
       "Step 0: Prepare Qubit s by applying H (t:0)\n",
       "Step 1: Alice observes s(t:1)\n",
       "Step 2: Bob observes s(t:2)\n",
       "\n",
       "Requirements: \n",
       "------------------------------\n",
       "Qubit             ['s']\n",
       "AgentMemory(1)    ['Bob', 'Alice']"
      ]
     },
     "execution_count": 23,
     "metadata": {},
     "output_type": "execute_result"
    }
   ],
   "source": [
    "#p = Protocol()\n",
    "p = step1 + step2 + step3\n",
    "p"
   ]
  },
  {
   "cell_type": "markdown",
   "metadata": {},
   "source": [
    "## 3. Run protocol"
   ]
  },
  {
   "cell_type": "code",
   "execution_count": 24,
   "metadata": {
    "scrolled": true
   },
   "outputs": [
    {
     "name": "stdout",
     "output_type": "stream",
     "text": [
      "(Note: This is the (slow) Python simulator.)\n",
      "Require Qubit s\n",
      "Require AgentMemory(1) Bob\n",
      "Require AgentMemory(1) Alice\n",
      "0 Prepare Qubit s by applying H  t:0\n",
      "State:\n",
      "0.71|0\u001b[0m\u001b[31m0\u001b[0m\u001b[34m0\u001b[0m> + 0.71|0\u001b[0m\u001b[31m0\u001b[0m\u001b[34m1\u001b[0m>\n",
      "1 Alice observes s t:1\n",
      "State:\n",
      "0.71|0\u001b[0m\u001b[31m0\u001b[0m\u001b[34m0\u001b[0m> + 0.71|1\u001b[0m\u001b[31m0\u001b[0m\u001b[34m1\u001b[0m>\n",
      "2 Bob observes s t:2\n",
      "State:\n",
      "0.71|0\u001b[0m\u001b[31m0\u001b[0m\u001b[34m0\u001b[0m> + 0.71|1\u001b[0m\u001b[31m1\u001b[0m\u001b[34m1\u001b[0m>\n"
     ]
    }
   ],
   "source": [
    "qsys = QuantumSystem(p.get_requirements())\n",
    "p.run(qsys)"
   ]
  },
  {
   "cell_type": "markdown",
   "metadata": {},
   "source": [
    "## 4. Calculate Agent's predictions "
   ]
  },
  {
   "cell_type": "code",
   "execution_count": 25,
   "metadata": {},
   "outputs": [
    {
     "name": "stdout",
     "output_type": "stream",
     "text": [
      "(Note: This is the (slow) Python simulator.)\n"
     ]
    },
    {
     "data": {
      "text/plain": [
       "In:(Alice_memory:t1)  |  Out: (Bob_memory:t2)\n",
       "----------------------------------------------------\n",
       "           0          |        [0]\n",
       "           1          |        [1]"
      ]
     },
     "execution_count": 25,
     "metadata": {},
     "output_type": "execute_result"
    }
   ],
   "source": [
    "forward_inference(p, 'Alice_memory', 1, 'Bob_memory', 2)"
   ]
  },
  {
   "cell_type": "code",
   "execution_count": 26,
   "metadata": {},
   "outputs": [
    {
     "name": "stdout",
     "output_type": "stream",
     "text": [
      "(Note: This is the (slow) Python simulator.)\n"
     ]
    },
    {
     "data": {
      "text/plain": [
       "In:(Bob_memory:t2)    |  Out: (Alice_memory:t1)\n",
       "------------------------------------------------------\n",
       "           0          |        [0]\n",
       "           1          |        [1]"
      ]
     },
     "execution_count": 26,
     "metadata": {},
     "output_type": "execute_result"
    }
   ],
   "source": [
    "backward_inference(p, 'Alice_memory', 1, 'Bob_memory', 2)"
   ]
  },
  {
   "cell_type": "code",
   "execution_count": 27,
   "metadata": {},
   "outputs": [
    {
     "data": {
      "text/plain": [
       "QuantumSystem object: \n",
       "Nqubits:      3 \n",
       "Print order:  Alice_memory\u001b[0m \u001b[31mBob_memory\u001b[0m \u001b[34ms\u001b[0m \n",
       "Wavefunction: \n",
       "0.71|0\u001b[0m\u001b[31m0\u001b[0m\u001b[34m0\u001b[0m> + 0.71|1\u001b[0m\u001b[31m1\u001b[0m\u001b[34m1\u001b[0m>"
      ]
     },
     "execution_count": 27,
     "metadata": {},
     "output_type": "execute_result"
    }
   ],
   "source": [
    "qsys"
   ]
  }
 ],
 "metadata": {
  "kernelspec": {
   "display_name": "Python 3",
   "language": "python",
   "name": "python3"
  },
  "language_info": {
   "codemirror_mode": {
    "name": "ipython",
    "version": 3
   },
   "file_extension": ".py",
   "mimetype": "text/x-python",
   "name": "python",
   "nbconvert_exporter": "python",
   "pygments_lexer": "ipython3",
   "version": "3.7.3"
  },
  "pycharm": {
   "stem_cell": {
    "cell_type": "raw",
    "metadata": {
     "collapsed": false
    },
    "source": []
   }
  }
 },
 "nbformat": 4,
 "nbformat_minor": 2
}
