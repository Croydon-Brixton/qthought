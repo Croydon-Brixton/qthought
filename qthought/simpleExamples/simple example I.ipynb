{
 "cells": [
  {
   "cell_type": "markdown",
   "metadata": {},
   "source": [
    "# Simple example I"
   ]
  },
  {
   "cell_type": "markdown",
   "metadata": {},
   "source": [
    "### Installation instruction"
   ]
  },
  {
   "cell_type": "markdown",
   "metadata": {},
   "source": [
    "It is recommended that you clone the qthought repository to your local machine and then run"
   ]
  },
  {
   "cell_type": "raw",
   "metadata": {},
   "source": [
    "pip install ."
   ]
  },
  {
   "cell_type": "markdown",
   "metadata": {},
   "source": [
    "in the qthought folder.\n",
    "If you did not pip install qthought, you can use the following quick-fix by uncommenting and adapting to your local file path"
   ]
  },
  {
   "cell_type": "code",
   "execution_count": 1,
   "metadata": {},
   "outputs": [],
   "source": [
    "#import sys\n",
    "#import os\n",
    "# to run the example, set the following path to the folder path of qthought on your machine\n",
    "#sys.path.append(os.path.abspath('/Users/nuri/qthought/qthought'))"
   ]
  },
  {
   "cell_type": "markdown",
   "metadata": {},
   "source": [
    "### Start of the example"
   ]
  },
  {
   "cell_type": "markdown",
   "metadata": {},
   "source": [
    "This is a detailed explanation of how to write a simple protocol for two parties thought experiment. Prior to reading this, it is recommended to take a look at the PDF description file *simple_examples*."
   ]
  },
  {
   "cell_type": "markdown",
   "metadata": {},
   "source": [
    "First, we import the ProjectQ operations needed for the protocol. Alice and Bob share a Bell state; to create it, we need a Hadamard gate and a CNOT gate.\n",
    "We also import *Protocol* and *ProtocolStep* classes to be able to define steps of the protocol; *QuantumSystem* to operate quantum systems of different dimensionality; *Agent* class and all functions from the *copennhagen_theory* module.\n",
    "We don't import *consistency* rules here, as in this example agents don't have to look at each other's viewpoints and glue them together. For an example where they do, please refer to the Frauchiger-Renner thought experiment protocol."
   ]
  },
  {
   "cell_type": "code",
   "execution_count": 2,
   "metadata": {},
   "outputs": [],
   "source": [
    "import warnings\n",
    "warnings.filterwarnings('ignore')\n",
    "\n",
    "import qthought.utils as ut\n",
    "from qthought.protocol import Protocol, ProtocolStep\n",
    "from qthought.quantumsystem import QuantumSystem\n",
    "from qthought.agents import Agent\n",
    "from qthought.interpretations.copenhagen_theory import *\n",
    "from projectq.ops import H, CNOT"
   ]
  },
  {
   "cell_type": "markdown",
   "metadata": {},
   "source": [
    "The first action of the protocol (at time $t=0$) is the initilization of two qubits (*alice_qubit* and *bob_qubit*) in a Bell state. After defining the action, we define the step of the protocol by specifying: domain of action; written description of the action, which will be used for printouts during the run; time of the step; and which action variable being described.\n",
    "\n",
    "In the second action ($t=1$) Alice writes down the result to her memory, and here the *observe* function comes in play: first variable corresponds to the memory (*Alice_memory*), and the second variable - to the system being measured (*alice_qubit*). In the *step2* variable, we again specify the step by its domain - which now includes an object *Alice* of the class *Agent* with 1 memory qubit and 1 inference qubit.\n",
    "\n",
    "Third action ($t=2$) shows how Alice makes an inference about Bob's measurement outcome. \n",
    "\n",
    "At $t=3$, Bob makes a measurement of his qubit, and at $t=4$ he writes it down to his memory."
   ]
  },
  {
   "cell_type": "code",
   "execution_count": 3,
   "metadata": {},
   "outputs": [],
   "source": [
    "def action1(qsys:QuantumSystem):\n",
    "    H | qsys['alice_qubit']\n",
    "    CNOT | (qsys[\"alice_qubit\"], qsys[\"bob_qubit\"])\n",
    "    \n",
    "step1 = ProtocolStep(domain={'Qubit': ['alice_qubit','bob_qubit']},\n",
    "                     descr = 'Prepare a Bell state of Alices and Bobs qubit ',\n",
    "                     time  = 0,\n",
    "                     action = action1)\n",
    "\n",
    "\n",
    "def action2(qsys:QuantumSystem):\n",
    "    observe(qsys['Alice_memory'],qsys['alice_qubit'])\n",
    "    \n",
    "step2 = ProtocolStep(domain={'Qubit': 'alice_qubit',\n",
    "                             'Agent(1,1)': 'Alice'},\n",
    "                     descr = 'Alice observes s',\n",
    "                     time  = 1,\n",
    "                     action = action2)\n",
    "\n",
    "def action3(qsys:QuantumSystem):\n",
    "    qsys['Alice'].make_inference()\n",
    "    \n",
    "step3 = ProtocolStep(domain={'Qubit': 'alice_qubit',\n",
    "                             'Agent(1,1)': 'Alice'},\n",
    "                     descr = 'Alice makes an inference about Bobs measurement',\n",
    "                     time  = 2,\n",
    "                     action = action3)\n",
    "\n",
    "def action4(qsys:QuantumSystem):\n",
    "    observe(qsys['Bob_memory'],qsys['bob_qubit'])\n",
    "    \n",
    "step4 = ProtocolStep(domain={'Qubit': 'bob_qubit',\n",
    "                             'AgentMemory(1)': 'Bob'},\n",
    "                     descr = 'Bob observes s',\n",
    "                     time  = 3,\n",
    "                     action = action4)"
   ]
  },
  {
   "cell_type": "markdown",
   "metadata": {},
   "source": [
    "Now we glue together all steps of the protocol."
   ]
  },
  {
   "cell_type": "code",
   "execution_count": 4,
   "metadata": {},
   "outputs": [],
   "source": [
    "p = Protocol()\n",
    "p += step1\n",
    "p += step2\n",
    "p += step3\n",
    "p += step4"
   ]
  },
  {
   "cell_type": "markdown",
   "metadata": {},
   "source": [
    "Now we can print out the full protocol and all systems required to run it."
   ]
  },
  {
   "cell_type": "code",
   "execution_count": 5,
   "metadata": {},
   "outputs": [
    {
     "data": {
      "text/plain": [
       "Step 0: Prepare a Bell state of Alices and Bobs qubit (t:0)\n",
       "Step 1: Alice observes s(t:1)\n",
       "Step 2: Alice makes an inference about Bobs measurement(t:2)\n",
       "Step 3: Bob observes s(t:3)\n",
       "\n",
       "Requirements: \n",
       "------------------------------\n",
       "Qubit             ['alice_qubit', 'bob_qubit']\n",
       "Agent(1,1)        ['Alice']\n",
       "AgentMemory(1)    ['Bob']"
      ]
     },
     "execution_count": 5,
     "metadata": {},
     "output_type": "execute_result"
    }
   ],
   "source": [
    "p"
   ]
  },
  {
   "cell_type": "markdown",
   "metadata": {},
   "source": [
    "We define an inference table of Alice reasoning about Bob. Here we use *forward_inference*, as Alice is reasoning about a later step; if it is the other way around, one should use *backward_inference* instead."
   ]
  },
  {
   "cell_type": "code",
   "execution_count": 6,
   "metadata": {
    "scrolled": true
   },
   "outputs": [],
   "source": [
    "Alice_inference_table = TA = forward_inference(protocol=p, \n",
    "                                               subsys_x='Alice_memory', t_x=1, \n",
    "                                               subsys_y='Bob_memory', t_y=3, \n",
    "                                               silent=True)"
   ]
  },
  {
   "cell_type": "markdown",
   "metadata": {},
   "source": [
    "Finally, we initialize the quantum system of the setting according to the requirements of the protocol, and set the inference table in no prediction state.\n",
    "\n",
    "We are ready to run! (and to look up Alice's inference table)"
   ]
  },
  {
   "cell_type": "code",
   "execution_count": 7,
   "metadata": {},
   "outputs": [
    {
     "name": "stdout",
     "output_type": "stream",
     "text": [
      "Require Qubit alice_qubit\n",
      "Require Qubit bob_qubit\n",
      "Require Agent(1,1) Alice\n",
      "Require AgentMemory(1) Bob\n",
      "0 Prepare a Bell state of Alices and Bobs qubit  t:0\n",
      "State:\n",
      "0.71|0\u001b[0m\u001b[31m1000\u001b[0m\u001b[34m0\u001b[0m\u001b[32m0\u001b[0m> + 0.71|0\u001b[0m\u001b[31m1000\u001b[0m\u001b[34m1\u001b[0m\u001b[32m1\u001b[0m>\n",
      "1 Alice observes s t:1\n",
      "State:\n",
      "0.71|0\u001b[0m\u001b[31m1000\u001b[0m\u001b[34m0\u001b[0m\u001b[32m0\u001b[0m> + 0.71|0\u001b[0m\u001b[31m1001\u001b[0m\u001b[34m1\u001b[0m\u001b[32m1\u001b[0m>\n",
      "2 Alice makes an inference about Bobs measurement t:2\n",
      "State:\n",
      "0.71|0\u001b[0m\u001b[31m1000\u001b[0m\u001b[34m0\u001b[0m\u001b[32m0\u001b[0m> + 0.71|0\u001b[0m\u001b[31m1011\u001b[0m\u001b[34m1\u001b[0m\u001b[32m1\u001b[0m>\n",
      "3 Bob observes s t:3\n",
      "State:\n",
      "0.71|0\u001b[0m\u001b[31m1000\u001b[0m\u001b[34m0\u001b[0m\u001b[32m0\u001b[0m> + 0.71|1\u001b[0m\u001b[31m1011\u001b[0m\u001b[34m1\u001b[0m\u001b[32m1\u001b[0m>\n"
     ]
    }
   ],
   "source": [
    "qsys = QuantumSystem(p.get_requirements())\n",
    "qsys[\"Alice\"].set_inference_table(Alice_inference_table, no_prediction_state=1)\n",
    "qsys['Alice'].prep_inference()\n",
    "p.run(qsys)"
   ]
  },
  {
   "cell_type": "code",
   "execution_count": 8,
   "metadata": {},
   "outputs": [
    {
     "data": {
      "text/plain": [
       "In:(Alice_memory:t1)  |  Out: (Bob_memory:t3)\n",
       "----------------------------------------------------\n",
       "           0          |        [0]\n",
       "           1          |        [1]"
      ]
     },
     "execution_count": 8,
     "metadata": {},
     "output_type": "execute_result"
    }
   ],
   "source": [
    "Alice_inference_table"
   ]
  },
  {
   "cell_type": "markdown",
   "metadata": {},
   "source": [
    "This corresponds to a theoretical observation due to quantum theory."
   ]
  }
 ],
 "metadata": {
  "kernelspec": {
   "display_name": "Python 3",
   "language": "python",
   "name": "python3"
  },
  "language_info": {
   "codemirror_mode": {
    "name": "ipython",
    "version": 3
   },
   "file_extension": ".py",
   "mimetype": "text/x-python",
   "name": "python",
   "nbconvert_exporter": "python",
   "pygments_lexer": "ipython3",
   "version": "3.7.3"
  }
 },
 "nbformat": 4,
 "nbformat_minor": 2
}
