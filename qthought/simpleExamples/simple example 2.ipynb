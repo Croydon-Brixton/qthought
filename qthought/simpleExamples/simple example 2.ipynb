{
 "cells": [
  {
   "cell_type": "markdown",
   "metadata": {},
   "source": [
    "# Simple example 2"
   ]
  },
  {
   "cell_type": "code",
   "execution_count": 3,
   "metadata": {},
   "outputs": [],
   "source": [
    "import sys\n",
    "import os\n",
    "# to run the example, set the following path to the folder path of qthought on your machine\n",
    "sys.path.append(os.path.abspath('/Users/nuri/qthought/qthought')) \n",
    "\n",
    "import qthought.utils as ut\n",
    "from qthought.protocol import Protocol, ProtocolStep\n",
    "from qthought.quantumsystem import QuantumSystem\n",
    "from qthought.agents import Agent\n",
    "from qthought.interpretations.copenhagen_theory import *\n",
    "from projectq.ops import H, CNOT"
   ]
  },
  {
   "cell_type": "code",
   "execution_count": 27,
   "metadata": {},
   "outputs": [],
   "source": [
    "def action1(qsys:QuantumSystem):\n",
    "    H | qsys['alice_qubit']\n",
    "    CNOT | (qsys[\"alice_qubit\"], qsys[\"bob_qubit\"])\n",
    "    \n",
    "step1 = ProtocolStep(domain={'Qubit': ['alice_qubit','bob_qubit']},\n",
    "                     descr = 'Perpare a bell state of Alices and Bobs qubit ',\n",
    "                     time  = 0,\n",
    "                     action = action1)\n",
    "\n",
    "def action2(qsys:QuantumSystem):\n",
    "    observe(qsys['Alice_memory'],qsys['alice_qubit'])\n",
    "    \n",
    "step2 = ProtocolStep(domain={'Qubit': 'alice_qubit',\n",
    "                             'Agent(1,1)': 'Alice'},\n",
    "                     descr = 'Alice observes s',\n",
    "                     time  = 1,\n",
    "                     action = action2)\n",
    "\n",
    "def action3(qsys:QuantumSystem):\n",
    "    qsys['Alice'].make_inference()\n",
    "    \n",
    "step3 = ProtocolStep(domain={'Qubit': 'alice_qubit',\n",
    "                             'Agent(1,1)': 'Alice'},\n",
    "                     descr = 'Alice makes an inference about Bobs measurement',\n",
    "                     time  = 2,\n",
    "                     action = action3)\n",
    "\n",
    "def action4(qsys:QuantumSystem):\n",
    "    observe(qsys['Bob_memory'],qsys['bob_qubit'])\n",
    "    \n",
    "step4 = ProtocolStep(domain={'Qubit': 'bob_qubit',\n",
    "                             'AgentMemory(1)': 'Bob'},\n",
    "                     descr = 'Bob observes s',\n",
    "                     time  = 3,\n",
    "                     action = action4)"
   ]
  },
  {
   "cell_type": "code",
   "execution_count": null,
   "metadata": {},
   "outputs": [],
   "source": []
  },
  {
   "cell_type": "code",
   "execution_count": 28,
   "metadata": {},
   "outputs": [],
   "source": [
    "p = Protocol()\n",
    "p += step1\n",
    "p += step2\n",
    "p += step3\n",
    "p += step4"
   ]
  },
  {
   "cell_type": "code",
   "execution_count": 29,
   "metadata": {},
   "outputs": [
    {
     "data": {
      "text/plain": [
       "Step 0: Perpare a bell state of Alices and Bobs qubit (t:0)\n",
       "Step 1: Alice observes s(t:1)\n",
       "Step 2: Alice makes an inference about Bobs measurement(t:2)\n",
       "Step 3: Bob observes s(t:3)\n",
       "\n",
       "Requirements: \n",
       "------------------------------\n",
       "Qubit             ['alice_qubit', 'bob_qubit']\n",
       "Agent(1,1)        ['Alice']\n",
       "AgentMemory(1)    ['Bob']"
      ]
     },
     "execution_count": 29,
     "metadata": {},
     "output_type": "execute_result"
    }
   ],
   "source": [
    "p"
   ]
  },
  {
   "cell_type": "code",
   "execution_count": 36,
   "metadata": {
    "scrolled": true
   },
   "outputs": [
    {
     "name": "stdout",
     "output_type": "stream",
     "text": [
      "(Note: This is the (slow) Python simulator.)\n"
     ]
    },
    {
     "name": "stderr",
     "output_type": "stream",
     "text": [
      "/Users/nuri/qthought/qthought/qthought/agents.py:214: UserWarning: make_inference called without setting an inference_table\n",
      "  warn('make_inference called without setting an inference_table')\n",
      "/Users/nuri/qthought/qthought/qthought/agents.py:214: UserWarning: make_inference called without setting an inference_table\n",
      "  warn('make_inference called without setting an inference_table')\n"
     ]
    }
   ],
   "source": [
    "Alice_inference_table = TA = forward_inference(protocol=p, \n",
    "                                               subsys_x='Alice_memory', t_x=1, \n",
    "                                               subsys_y='Bob_memory', t_y=3, \n",
    "                                               silent=True)"
   ]
  },
  {
   "cell_type": "code",
   "execution_count": 42,
   "metadata": {},
   "outputs": [
    {
     "data": {
      "text/plain": [
       "In:(Alice_memory:t1)  |  Out: (Bob_memory:t3)\n",
       "----------------------------------------------------\n",
       "           0          |        [0]\n",
       "           1          |        [1]"
      ]
     },
     "execution_count": 42,
     "metadata": {},
     "output_type": "execute_result"
    }
   ],
   "source": [
    "Alice_inference_table"
   ]
  },
  {
   "cell_type": "code",
   "execution_count": 51,
   "metadata": {},
   "outputs": [
    {
     "name": "stdout",
     "output_type": "stream",
     "text": [
      "(Note: This is the (slow) Python simulator.)\n",
      "Require Qubit alice_qubit\n",
      "Require Qubit bob_qubit\n",
      "Require Agent(1,1) Alice\n",
      "Require AgentMemory(1) Bob\n",
      "0 Perpare a bell state of Alices and Bobs qubit  t:0\n",
      "State:\n",
      "0.71|0\u001b[0m\u001b[31m1000\u001b[0m\u001b[34m0\u001b[0m\u001b[32m0\u001b[0m> + 0.71|0\u001b[0m\u001b[31m1000\u001b[0m\u001b[34m1\u001b[0m\u001b[32m1\u001b[0m>\n",
      "1 Alice observes s t:1\n",
      "State:\n",
      "0.71|0\u001b[0m\u001b[31m1000\u001b[0m\u001b[34m0\u001b[0m\u001b[32m0\u001b[0m> + 0.71|0\u001b[0m\u001b[31m1001\u001b[0m\u001b[34m1\u001b[0m\u001b[32m1\u001b[0m>\n",
      "2 Alice makes an inference about Bobs measurement t:2\n",
      "State:\n",
      "0.71|0\u001b[0m\u001b[31m1000\u001b[0m\u001b[34m0\u001b[0m\u001b[32m0\u001b[0m> + 0.71|0\u001b[0m\u001b[31m1011\u001b[0m\u001b[34m1\u001b[0m\u001b[32m1\u001b[0m>\n",
      "3 Bob observes s t:3\n",
      "State:\n",
      "0.71|0\u001b[0m\u001b[31m1000\u001b[0m\u001b[34m0\u001b[0m\u001b[32m0\u001b[0m> + 0.71|1\u001b[0m\u001b[31m1011\u001b[0m\u001b[34m1\u001b[0m\u001b[32m1\u001b[0m>\n"
     ]
    },
    {
     "name": "stderr",
     "output_type": "stream",
     "text": [
      "Exception ignored in: <function Qubit.__del__ at 0x114243488>\n",
      "Traceback (most recent call last):\n",
      "  File \"/Users/nuri/.local/lib/python3.7/site-packages/projectq/types/_qubit.py\", line 135, in __del__\n",
      "    self.engine.deallocate_qubit(weak_copy)\n",
      "  File \"/Users/nuri/.local/lib/python3.7/site-packages/projectq/cengines/_basics.py\", line 153, in deallocate_qubit\n",
      "    tags=[DirtyQubitTag()] if is_dirty else [])])\n",
      "  File \"/Users/nuri/.local/lib/python3.7/site-packages/projectq/cengines/_main.py\", line 288, in send\n",
      "    raise compact_exception  # use verbose=True for more info\n",
      "RuntimeError: Qubit has not been measured / uncomputed. Cannot access its classical value and/or deallocate a qubit in superposition!\n",
      " raised in:\n",
      "'  File \"/Users/nuri/.local/lib/python3.7/site-packages/projectq/backends/_sim/_pysim.py\", line 139, in get_classical_value'\n",
      "'    raise RuntimeError(\"Qubit has not been measured / \"'\n",
      "Exception ignored in: <function Qubit.__del__ at 0x114243488>\n",
      "Traceback (most recent call last):\n",
      "  File \"/Users/nuri/.local/lib/python3.7/site-packages/projectq/types/_qubit.py\", line 135, in __del__\n",
      "    self.engine.deallocate_qubit(weak_copy)\n",
      "  File \"/Users/nuri/.local/lib/python3.7/site-packages/projectq/cengines/_basics.py\", line 153, in deallocate_qubit\n",
      "    tags=[DirtyQubitTag()] if is_dirty else [])])\n",
      "  File \"/Users/nuri/.local/lib/python3.7/site-packages/projectq/cengines/_main.py\", line 288, in send\n",
      "    raise compact_exception  # use verbose=True for more info\n",
      "RuntimeError: Qubit has not been measured / uncomputed. Cannot access its classical value and/or deallocate a qubit in superposition!\n",
      " raised in:\n",
      "'  File \"/Users/nuri/.local/lib/python3.7/site-packages/projectq/backends/_sim/_pysim.py\", line 139, in get_classical_value'\n",
      "'    raise RuntimeError(\"Qubit has not been measured / \"'\n",
      "Exception ignored in: <function Qubit.__del__ at 0x114243488>\n",
      "Traceback (most recent call last):\n",
      "  File \"/Users/nuri/.local/lib/python3.7/site-packages/projectq/types/_qubit.py\", line 135, in __del__\n",
      "    self.engine.deallocate_qubit(weak_copy)\n",
      "  File \"/Users/nuri/.local/lib/python3.7/site-packages/projectq/cengines/_basics.py\", line 153, in deallocate_qubit\n",
      "    tags=[DirtyQubitTag()] if is_dirty else [])])\n",
      "  File \"/Users/nuri/.local/lib/python3.7/site-packages/projectq/cengines/_main.py\", line 288, in send\n",
      "    raise compact_exception  # use verbose=True for more info\n",
      "RuntimeError: Qubit has not been measured / uncomputed. Cannot access its classical value and/or deallocate a qubit in superposition!\n",
      " raised in:\n",
      "'  File \"/Users/nuri/.local/lib/python3.7/site-packages/projectq/backends/_sim/_pysim.py\", line 139, in get_classical_value'\n",
      "'    raise RuntimeError(\"Qubit has not been measured / \"'\n",
      "Exception ignored in: <function Qubit.__del__ at 0x114243488>\n",
      "Traceback (most recent call last):\n",
      "  File \"/Users/nuri/.local/lib/python3.7/site-packages/projectq/types/_qubit.py\", line 135, in __del__\n",
      "    self.engine.deallocate_qubit(weak_copy)\n",
      "  File \"/Users/nuri/.local/lib/python3.7/site-packages/projectq/cengines/_basics.py\", line 153, in deallocate_qubit\n",
      "    tags=[DirtyQubitTag()] if is_dirty else [])])\n",
      "  File \"/Users/nuri/.local/lib/python3.7/site-packages/projectq/cengines/_main.py\", line 288, in send\n",
      "    raise compact_exception  # use verbose=True for more info\n",
      "RuntimeError: Qubit has not been measured / uncomputed. Cannot access its classical value and/or deallocate a qubit in superposition!\n",
      " raised in:\n",
      "'  File \"/Users/nuri/.local/lib/python3.7/site-packages/projectq/backends/_sim/_pysim.py\", line 139, in get_classical_value'\n",
      "'    raise RuntimeError(\"Qubit has not been measured / \"'\n",
      "Exception ignored in: <function Qubit.__del__ at 0x114243488>\n",
      "Traceback (most recent call last):\n",
      "  File \"/Users/nuri/.local/lib/python3.7/site-packages/projectq/types/_qubit.py\", line 135, in __del__\n",
      "    self.engine.deallocate_qubit(weak_copy)\n",
      "  File \"/Users/nuri/.local/lib/python3.7/site-packages/projectq/cengines/_basics.py\", line 153, in deallocate_qubit\n",
      "    tags=[DirtyQubitTag()] if is_dirty else [])])\n",
      "  File \"/Users/nuri/.local/lib/python3.7/site-packages/projectq/cengines/_main.py\", line 288, in send\n",
      "    raise compact_exception  # use verbose=True for more info\n",
      "RuntimeError: Qubit has not been measured / uncomputed. Cannot access its classical value and/or deallocate a qubit in superposition!\n",
      " raised in:\n",
      "'  File \"/Users/nuri/.local/lib/python3.7/site-packages/projectq/backends/_sim/_pysim.py\", line 139, in get_classical_value'\n",
      "'    raise RuntimeError(\"Qubit has not been measured / \"'\n",
      "Exception ignored in: <function Qubit.__del__ at 0x114243488>\n",
      "Traceback (most recent call last):\n",
      "  File \"/Users/nuri/.local/lib/python3.7/site-packages/projectq/types/_qubit.py\", line 135, in __del__\n",
      "    self.engine.deallocate_qubit(weak_copy)\n",
      "  File \"/Users/nuri/.local/lib/python3.7/site-packages/projectq/cengines/_basics.py\", line 153, in deallocate_qubit\n",
      "    tags=[DirtyQubitTag()] if is_dirty else [])])\n",
      "  File \"/Users/nuri/.local/lib/python3.7/site-packages/projectq/cengines/_main.py\", line 288, in send\n",
      "    raise compact_exception  # use verbose=True for more info\n",
      "RuntimeError: Qubit has not been measured / uncomputed. Cannot access its classical value and/or deallocate a qubit in superposition!\n",
      " raised in:\n",
      "'  File \"/Users/nuri/.local/lib/python3.7/site-packages/projectq/backends/_sim/_pysim.py\", line 139, in get_classical_value'\n",
      "'    raise RuntimeError(\"Qubit has not been measured / \"'\n",
      "Exception ignored in: <function Qubit.__del__ at 0x114243488>\n",
      "Traceback (most recent call last):\n",
      "  File \"/Users/nuri/.local/lib/python3.7/site-packages/projectq/types/_qubit.py\", line 135, in __del__\n",
      "    self.engine.deallocate_qubit(weak_copy)\n",
      "  File \"/Users/nuri/.local/lib/python3.7/site-packages/projectq/cengines/_basics.py\", line 153, in deallocate_qubit\n",
      "    tags=[DirtyQubitTag()] if is_dirty else [])])\n",
      "  File \"/Users/nuri/.local/lib/python3.7/site-packages/projectq/cengines/_main.py\", line 288, in send\n",
      "    raise compact_exception  # use verbose=True for more info\n",
      "RuntimeError: Qubit has not been measured / uncomputed. Cannot access its classical value and/or deallocate a qubit in superposition!\n",
      " raised in:\n",
      "'  File \"/Users/nuri/.local/lib/python3.7/site-packages/projectq/backends/_sim/_pysim.py\", line 139, in get_classical_value'\n",
      "'    raise RuntimeError(\"Qubit has not been measured / \"'\n"
     ]
    }
   ],
   "source": [
    "qsys = QuantumSystem(p.get_requirements())\n",
    "qsys[\"Alice\"].set_inference_table(Alice_inference_table, no_prediction_state=1)\n",
    "qsys['Alice'].prep_inference()\n",
    "p.run(qsys)"
   ]
  }
 ],
 "metadata": {
  "kernelspec": {
   "display_name": "Python 3",
   "language": "python",
   "name": "python3"
  },
  "language_info": {
   "codemirror_mode": {
    "name": "ipython",
    "version": 3
   },
   "file_extension": ".py",
   "mimetype": "text/x-python",
   "name": "python",
   "nbconvert_exporter": "python",
   "pygments_lexer": "ipython3",
   "version": "3.7.3"
  }
 },
 "nbformat": 4,
 "nbformat_minor": 2
}
