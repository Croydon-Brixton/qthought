{
 "cells": [
  {
   "cell_type": "markdown",
   "metadata": {},
   "source": [
    "# Frauchiger Renner in the Copenhagen Interpretation"
   ]
  },
  {
   "cell_type": "markdown",
   "metadata": {},
   "source": [
    "The code below implements the Frauchiger Renner paradox with a collapse theory prescription of measurement."
   ]
  },
  {
   "cell_type": "markdown",
   "metadata": {},
   "source": [
    "## 0. Basic imports"
   ]
  },
  {
   "cell_type": "code",
   "execution_count": 4,
   "metadata": {},
   "outputs": [],
   "source": [
    "import sys\n",
    "import os\n",
    "import warnings\n",
    "#from copy import deepcopy\n",
    "sys.path.insert(0,'C:\\\\Users\\\\Simon\\\\CloudStation\\\\Studium ETH\\\\18HS\\\\#2 Frauchinger-Renner Project\\\\Coding\\\\frauchinger-renner-program\\\\v3 - protocol (beta)\\\\lib\\\\utils')\n",
    "warnings.filterwarnings('ignore')\n",
    "\n",
    "import numpy as np"
   ]
  },
  {
   "cell_type": "markdown",
   "metadata": {},
   "source": [
    "## 1. Quantum Imports"
   ]
  },
  {
   "cell_type": "code",
   "execution_count": 5,
   "metadata": {},
   "outputs": [],
   "source": [
    "from projectq.ops import H, X, Measure\n",
    "from projectq.meta import Control\n",
    "\n",
    "from qthought.protocol import ProtocolStep\n",
    "from qthought.quantumsystem import QuantumSystem\n",
    "from qthought.agents import InferenceTable\n",
    "from qthought.copenhagen_theory import *\n",
    "from qthought.FR_protocol import InitR, observe"
   ]
  },
  {
   "cell_type": "markdown",
   "metadata": {},
   "source": [
    "## 2. Defining the Frauchiger Renner Protocol steps"
   ]
  },
  {
   "cell_type": "code",
   "execution_count": 6,
   "metadata": {},
   "outputs": [],
   "source": [
    "# Step 1: Initialize r\n",
    "# ----------------------------------------------------------\n",
    "def step1_action(qsys):\n",
    "    \"\"\"Prepares the subsystem `r` of a `QuantumSystem` in the Frauchiger-Renner initial state.\"\"\"\n",
    "    InitR | qsys['r']\n",
    "\n",
    "\n",
    "step1 = ProtocolStep(domain={'Qubit': ['r']},\n",
    "                     descr='Initialize R',\n",
    "                     time=1,\n",
    "                     action=step1_action)\n",
    "\n",
    "\n",
    "# Step 2: Alice observes r\n",
    "# ----------------------------------------------------------\n",
    "def step2_action(qsys):\n",
    "    observe(qsys['Alice_memory'], qsys['r'])\n",
    "\n",
    "\n",
    "step2 = ProtocolStep(domain={'AgentMemory(1)': ['Alice'],\n",
    "                             'Qubit': ['r']},\n",
    "                      descr='ALICE observes R',\n",
    "                      time=2,\n",
    "                      action=step2_action)\n",
    "\n",
    "\n",
    "# Step 3: Alice makes inference\n",
    "# ----------------------------------------------------------\n",
    "def step3_action(qsys):\n",
    "    qsys['Alice'].make_inference()\n",
    "\n",
    "\n",
    "step3 = ProtocolStep(domain={'Agent(1,1)': ['Alice']},\n",
    "                     descr='ALICE makes an inference',\n",
    "                     time=3,\n",
    "                     action=step3_action)\n",
    "\n",
    "\n",
    "# Step 4: Alice prepares S\n",
    "# ----------------------------------------------------------\n",
    "def step4_action(qsys):\n",
    "    with Control(qsys['eng'], qsys['Alice_memory']):\n",
    "        H | qsys['s']\n",
    "\n",
    "\n",
    "step4 = ProtocolStep(domain={'Qubit': ['s'],\n",
    "                             'AgentMemory(1)': ['Alice']},\n",
    "                     descr='Apply H to S controlled on ALICE_MEMORY',\n",
    "                     time=4,\n",
    "                     action=step4_action)\n",
    "\n",
    "\n",
    "# Step 5: Bob measures S\n",
    "# ----------------------------------------------------------\n",
    "def step5_action(qsys):\n",
    "    observe(qsys['Bob_memory'], qsys['s'])\n",
    "\n",
    "\n",
    "step5 = ProtocolStep(domain={'Qubit': ['s'],\n",
    "                             'AgentMemory(1)': ['Bob']},\n",
    "                      descr='BOB measures S',\n",
    "                      time=5,\n",
    "                      action=step5_action)\n",
    "\n",
    "\n",
    "# Step 6: Bob makes inference\n",
    "# ----------------------------------------------------------\n",
    "def step6_action(qsys):\n",
    "    qsys['Bob'].make_inference()\n",
    "\n",
    "\n",
    "step6 = ProtocolStep(domain={'Agent(1,1)': ['Bob']},\n",
    "                     descr='BOB makes an inference',\n",
    "                     time=6,\n",
    "                     action=step6_action)\n",
    "\n",
    "\n",
    "# Step 7: Reverse inference making in Alice\n",
    "# ----------------------------------------------------------\n",
    "def step7_action(qsys):\n",
    "    qsys['Alice'].make_inference(reverse=True)\n",
    "    observe(qsys['Alice_memory'], qsys['r'], reverse=True)\n",
    "\n",
    "\n",
    "step7 = ProtocolStep(domain={'Agent(1,1)': ['Alice']},\n",
    "                      descr='Reverse Alice reasoning (Step1: in ok --> 1(R)',\n",
    "                      time=7,\n",
    "                      action=step7_action)\n",
    "\n",
    "\n",
    "# Step 8: Hadamard on r\n",
    "# ----------------------------------------------------------\n",
    "def step8_action(qsys):\n",
    "    H | qsys['r']\n",
    "\n",
    "\n",
    "step8 = ProtocolStep(domain={'Qubit': ['r']},\n",
    "                     descr='Perform Hadamard on R (Step2: in ok --> 1(R)',\n",
    "                     time=8,\n",
    "                     action=step8_action)\n",
    "\n",
    "\n",
    "# Step 9: Ursula measures Alices lab\n",
    "# ----------------------------------------------------------\n",
    "def step9_action(qsys):\n",
    "    observe(qsys['Ursula_memory'], qsys['r'])\n",
    "\n",
    "\n",
    "step9 = ProtocolStep(domain={'Qubit': ['r'],\n",
    "                             'AgentMemory(1)': ['Ursula']},\n",
    "                      descr='URSULA measures ALICEs lab (i.e. r)',\n",
    "                      time=9,\n",
    "                      action=step9_action)\n",
    "\n",
    "\n",
    "# Step 10: Ursula makes an inference\n",
    "# ----------------------------------------------------------\n",
    "def step10_action(qsys):\n",
    "    qsys['Ursula'].make_inference()\n",
    "\n",
    "\n",
    "step10 = ProtocolStep(domain={'Agent(1,1)': ['Ursula']},\n",
    "                      descr='URSULA makes inference',\n",
    "                      time=10,\n",
    "                      action=step10_action)\n",
    "\n",
    "\n",
    "# Step 11: Ursula announces her prediction\n",
    "# ----------------------------------------------------------\n",
    "def step11_action(qsys):\n",
    "    Measure | qsys['Ursula_prediction']\n",
    "    print('!Measurement made on Ursula_prediction!')\n",
    "    print('Ursula prediction:', readout([qsys['Ursula_prediction']]))\n",
    "\n",
    "\n",
    "step11 = ProtocolStep(domain={'Agent(1,1)': ['Ursula']},\n",
    "                      descr='URSULA announces her prediction',\n",
    "                      time=11,\n",
    "                      action=step11_action)\n",
    "\n",
    "\n",
    "# Step 12: Reverse Bob's reasoning\n",
    "# ----------------------------------------------------------\n",
    "def step12_action(qsys):\n",
    "    qsys['Bob'].make_inference(reverse=True)\n",
    "    # qsys['Bob'].observe(qsys['s'], reverse=True)\n",
    "    observe(qsys['Bob_memory'], qsys['s'], reverse=True)\n",
    "\n",
    "\n",
    "step12 = ProtocolStep(domain={'Agent(1,1)': ['Bob']},\n",
    "                       descr='Reverse BOBs inference procedure',\n",
    "                       time=12,\n",
    "                       action=step12_action)\n",
    "\n",
    "\n",
    "# Step 13: Apply Hadamard on s\n",
    "# ----------------------------------------------------------\n",
    "def step13_action(qsys):\n",
    "    H | qsys['s']\n",
    "\n",
    "\n",
    "step13 = ProtocolStep(domain={'Qubit': ['s']},\n",
    "                      descr='Apply Hadamard on S, i.e. transform system S+BOB:  ok --> 1(s) ',\n",
    "                      time=13,\n",
    "                      action=step13_action)\n",
    "\n",
    "\n",
    "# Step 14: Check if Bob is in ok state\n",
    "# ----------------------------------------------------------\n",
    "def step14_action(qsys):\n",
    "    Measure | qsys['s']\n",
    "    print('!Measurement made on s!')\n",
    "    print('s-state:', readout([qsys['s']]))\n",
    "\n",
    "\n",
    "step14 = ProtocolStep(domain={'Agent(1,1)': ['Bob']},\n",
    "                      descr='Check if Bob+s is in ok state (corresponding to s: 1)',\n",
    "                      time=14,\n",
    "                      action=step14_action)\n"
   ]
  },
  {
   "cell_type": "markdown",
   "metadata": {},
   "source": [
    "## 3. Building up Alice's inference table (TA)"
   ]
  },
  {
   "cell_type": "code",
   "execution_count": 33,
   "metadata": {},
   "outputs": [
    {
     "data": {
      "text/plain": [
       "Step 0: Initialize R(t:1)\n",
       "Step 1: ALICE observes R(t:2)\n",
       "Step 2: ALICE makes an inference(t:3)\n",
       "Step 3: Apply H to S controlled on ALICE_MEMORY(t:4)\n",
       "Step 4: BOB measures S(t:5)\n",
       "Step 5: BOB makes an inference(t:6)\n",
       "Step 6: Reverse BOBs inference procedure(t:12)\n",
       "Step 7: Apply Hadamard on S, i.e. transform system S+BOB:  ok --> 1(s) (t:13)\n",
       "\n",
       "Requirements: \n",
       "------------------------------\n",
       "Qubit             ['s', 'r']\n",
       "Agent(1,1)        ['Bob', 'Alice']"
      ]
     },
     "execution_count": 33,
     "metadata": {},
     "output_type": "execute_result"
    }
   ],
   "source": [
    "p_TA_steps = [step1, step2, step3, step4, step5, step6,\n",
    "         step12, step13]\n",
    "p_TA = sum(p_TA_steps)\n",
    "p_TA"
   ]
  },
  {
   "cell_type": "code",
   "execution_count": 35,
   "metadata": {},
   "outputs": [
    {
     "data": {
      "text/plain": [
       "In:(Alice_memory:t2)  |  Out: (s:t13)\n",
       "--------------------------------------------\n",
       "           0          |        [0, 1]\n",
       "           1          |        [0]"
      ]
     },
     "execution_count": 35,
     "metadata": {},
     "output_type": "execute_result"
    }
   ],
   "source": [
    "TA = forward_inference(p_TA, \n",
    "                       subsys_x='Alice_memory', t_x=2, \n",
    "                       subsys_y='s', t_y=13, \n",
    "                       silent=True)\n",
    "TA"
   ]
  },
  {
   "cell_type": "markdown",
   "metadata": {},
   "source": [
    "## 4. Building up Bob's inference table (TB)"
   ]
  },
  {
   "cell_type": "code",
   "execution_count": 10,
   "metadata": {},
   "outputs": [
    {
     "data": {
      "text/plain": [
       "Step 0: Initialize R(t:1)\n",
       "Step 1: ALICE observes R(t:2)\n",
       "Step 2: Apply H to S controlled on ALICE_MEMORY(t:4)\n",
       "Step 3: BOB measures S(t:5)\n",
       "\n",
       "Requirements: \n",
       "------------------------------\n",
       "Qubit             ['s', 'r']\n",
       "AgentMemory(1)    ['Bob', 'Alice']"
      ]
     },
     "execution_count": 10,
     "metadata": {},
     "output_type": "execute_result"
    }
   ],
   "source": [
    "p_TB_steps = [step1, step2, step4, step5]\n",
    "p_TB = sum(p_TB_steps)\n",
    "p_TB"
   ]
  },
  {
   "cell_type": "code",
   "execution_count": 11,
   "metadata": {
    "scrolled": true
   },
   "outputs": [
    {
     "name": "stdout",
     "output_type": "stream",
     "text": [
      "Require Qubit s\n",
      "Require Qubit r\n",
      "Require AgentMemory(1) Bob\n",
      "Require AgentMemory(1) Alice\n",
      "----- Case 0 -----\n",
      "0 Initialize R t:1\n",
      "State:\n",
      "0.58|0\u001b[0m\u001b[31m0\u001b[0m\u001b[34m0\u001b[0m\u001b[32m0\u001b[0m> + 0.82|0\u001b[0m\u001b[31m0\u001b[0m\u001b[34m1\u001b[0m\u001b[32m0\u001b[0m>\n",
      "1 ALICE observes R t:2\n",
      "State:\n",
      "0.58|0\u001b[0m\u001b[31m0\u001b[0m\u001b[34m0\u001b[0m\u001b[32m0\u001b[0m> + 0.82|1\u001b[0m\u001b[31m0\u001b[0m\u001b[34m1\u001b[0m\u001b[32m0\u001b[0m>\n",
      "Projecting to subspace Alice_memory=0\n",
      "1.0|0\u001b[0m\u001b[31m0\u001b[0m\u001b[34m0\u001b[0m\u001b[32m0\u001b[0m>\n",
      "2 Apply H to S controlled on ALICE_MEMORY t:4\n",
      "State:\n",
      "1.0|0\u001b[0m\u001b[31m0\u001b[0m\u001b[34m0\u001b[0m\u001b[32m0\u001b[0m>\n",
      "3 BOB measures S t:5\n",
      "State:\n",
      "1.0|0\u001b[0m\u001b[31m0\u001b[0m\u001b[34m0\u001b[0m\u001b[32m0\u001b[0m>\n",
      "Quantum system reset to: 0000\n",
      "----- Case 1 -----\n",
      "0 Initialize R t:1\n",
      "State:\n",
      "0.58|0\u001b[0m\u001b[31m0\u001b[0m\u001b[34m0\u001b[0m\u001b[32m0\u001b[0m> + 0.82|0\u001b[0m\u001b[31m0\u001b[0m\u001b[34m1\u001b[0m\u001b[32m0\u001b[0m>\n",
      "1 ALICE observes R t:2\n",
      "State:\n",
      "0.58|0\u001b[0m\u001b[31m0\u001b[0m\u001b[34m0\u001b[0m\u001b[32m0\u001b[0m> + 0.82|1\u001b[0m\u001b[31m0\u001b[0m\u001b[34m1\u001b[0m\u001b[32m0\u001b[0m>\n",
      "Projecting to subspace Alice_memory=1\n",
      "1.0|1\u001b[0m\u001b[31m0\u001b[0m\u001b[34m1\u001b[0m\u001b[32m0\u001b[0m>\n",
      "2 Apply H to S controlled on ALICE_MEMORY t:4\n",
      "State:\n",
      "0.71|1\u001b[0m\u001b[31m0\u001b[0m\u001b[34m1\u001b[0m\u001b[32m0\u001b[0m> + 0.71|1\u001b[0m\u001b[31m0\u001b[0m\u001b[34m1\u001b[0m\u001b[32m1\u001b[0m>\n",
      "3 BOB measures S t:5\n",
      "State:\n",
      "0.71|1\u001b[0m\u001b[31m0\u001b[0m\u001b[34m1\u001b[0m\u001b[32m0\u001b[0m> + 0.71|1\u001b[0m\u001b[31m1\u001b[0m\u001b[34m1\u001b[0m\u001b[32m1\u001b[0m>\n",
      "Quantum system reset to: 0000\n"
     ]
    },
    {
     "data": {
      "text/plain": [
       "In:(Bob_memory:t5)    |  Out: (Alice_memory:t2)\n",
       "------------------------------------------------------\n",
       "           0          |        [0, 1]\n",
       "           1          |        [1]"
      ]
     },
     "execution_count": 11,
     "metadata": {},
     "output_type": "execute_result"
    }
   ],
   "source": [
    "TB = backward_inference(p_TB, \n",
    "                        subsys_x='Alice_memory', t_x=2, \n",
    "                        subsys_y='Bob_memory', t_y=5, \n",
    "                        silent=False)\n",
    "TB"
   ]
  },
  {
   "cell_type": "markdown",
   "metadata": {},
   "source": [
    "## 5. Building up Ursula's inference table (TU)"
   ]
  },
  {
   "cell_type": "code",
   "execution_count": 12,
   "metadata": {
    "scrolled": true
   },
   "outputs": [
    {
     "data": {
      "text/plain": [
       "Step 0: Initialize R(t:1)\n",
       "Step 1: ALICE observes R(t:2)\n",
       "Step 2: ALICE makes an inference(t:3)\n",
       "Step 3: Apply H to S controlled on ALICE_MEMORY(t:4)\n",
       "Step 4: BOB measures S(t:5)\n",
       "Step 5: BOB makes an inference(t:6)\n",
       "Step 6: Reverse Alice reasoning (Step1: in ok --> 1(R)(t:7)\n",
       "Step 7: Perform Hadamard on R (Step2: in ok --> 1(R)(t:8)\n",
       "Step 8: URSULA measures ALICEs lab (i.e. r)(t:9)\n",
       "\n",
       "Requirements: \n",
       "------------------------------\n",
       "Qubit             ['s', 'r']\n",
       "AgentMemory(1)    ['Ursula']\n",
       "Agent(1,1)        ['Bob', 'Alice']"
      ]
     },
     "execution_count": 12,
     "metadata": {},
     "output_type": "execute_result"
    }
   ],
   "source": [
    "p_TU_steps = [step1, step2, step3, step4, step5,\n",
    "              step6, step7, step8 ,step9]\n",
    "p_TU = sum(p_TU_steps)\n",
    "p_TU"
   ]
  },
  {
   "cell_type": "code",
   "execution_count": 13,
   "metadata": {},
   "outputs": [
    {
     "name": "stdout",
     "output_type": "stream",
     "text": [
      "Require Qubit s\n",
      "Require Qubit r\n",
      "Require AgentMemory(1) Ursula\n",
      "Require Agent(1,1) Bob\n",
      "Require Agent(1,1) Alice\n",
      "----- Case 0 -----\n",
      "0 Initialize R t:1\n",
      "State:\n",
      "0.58|0000\u001b[0m\u001b[31m0000\u001b[0m\u001b[34m0\u001b[0m\u001b[32m0\u001b[0m\u001b[35m0\u001b[0m> + 0.82|0000\u001b[0m\u001b[31m0000\u001b[0m\u001b[34m0\u001b[0m\u001b[32m1\u001b[0m\u001b[35m0\u001b[0m>\n",
      "1 ALICE observes R t:2\n",
      "State:\n",
      "0.58|0000\u001b[0m\u001b[31m0000\u001b[0m\u001b[34m0\u001b[0m\u001b[32m0\u001b[0m\u001b[35m0\u001b[0m> + 0.82|0001\u001b[0m\u001b[31m0000\u001b[0m\u001b[34m0\u001b[0m\u001b[32m1\u001b[0m\u001b[35m0\u001b[0m>\n",
      "2 ALICE makes an inference t:3\n",
      "State:\n",
      "0.58|0000\u001b[0m\u001b[31m0000\u001b[0m\u001b[34m0\u001b[0m\u001b[32m0\u001b[0m\u001b[35m0\u001b[0m> + 0.82|0001\u001b[0m\u001b[31m0000\u001b[0m\u001b[34m0\u001b[0m\u001b[32m1\u001b[0m\u001b[35m0\u001b[0m>\n",
      "3 Apply H to S controlled on ALICE_MEMORY t:4\n",
      "State:\n",
      "0.58|0000\u001b[0m\u001b[31m0000\u001b[0m\u001b[34m0\u001b[0m\u001b[32m0\u001b[0m\u001b[35m0\u001b[0m> + 0.58|0001\u001b[0m\u001b[31m0000\u001b[0m\u001b[34m0\u001b[0m\u001b[32m1\u001b[0m\u001b[35m0\u001b[0m> + 0.58|0001\u001b[0m\u001b[31m0000\u001b[0m\u001b[34m0\u001b[0m\u001b[32m1\u001b[0m\u001b[35m1\u001b[0m>\n",
      "4 BOB measures S t:5\n",
      "State:\n",
      "0.58|0000\u001b[0m\u001b[31m0000\u001b[0m\u001b[34m0\u001b[0m\u001b[32m0\u001b[0m\u001b[35m0\u001b[0m> + 0.58|0001\u001b[0m\u001b[31m0000\u001b[0m\u001b[34m0\u001b[0m\u001b[32m1\u001b[0m\u001b[35m0\u001b[0m> + 0.58|0001\u001b[0m\u001b[31m0001\u001b[0m\u001b[34m0\u001b[0m\u001b[32m1\u001b[0m\u001b[35m1\u001b[0m>\n",
      "Projecting to subspace Bob_memory=0\n",
      "0.71|0000\u001b[0m\u001b[31m0000\u001b[0m\u001b[34m0\u001b[0m\u001b[32m0\u001b[0m\u001b[35m0\u001b[0m> + 0.71|0001\u001b[0m\u001b[31m0000\u001b[0m\u001b[34m0\u001b[0m\u001b[32m1\u001b[0m\u001b[35m0\u001b[0m>\n",
      "5 BOB makes an inference t:6\n",
      "State:\n",
      "0.71|0000\u001b[0m\u001b[31m0000\u001b[0m\u001b[34m0\u001b[0m\u001b[32m0\u001b[0m\u001b[35m0\u001b[0m> + 0.71|0001\u001b[0m\u001b[31m0000\u001b[0m\u001b[34m0\u001b[0m\u001b[32m1\u001b[0m\u001b[35m0\u001b[0m>\n",
      "6 Reverse Alice reasoning (Step1: in ok --> 1(R) t:7\n",
      "State:\n",
      "0.71|0000\u001b[0m\u001b[31m0000\u001b[0m\u001b[34m0\u001b[0m\u001b[32m0\u001b[0m\u001b[35m0\u001b[0m> + 0.71|0000\u001b[0m\u001b[31m0000\u001b[0m\u001b[34m0\u001b[0m\u001b[32m1\u001b[0m\u001b[35m0\u001b[0m>\n",
      "7 Perform Hadamard on R (Step2: in ok --> 1(R) t:8\n",
      "State:\n",
      "1.0|0000\u001b[0m\u001b[31m0000\u001b[0m\u001b[34m0\u001b[0m\u001b[32m0\u001b[0m\u001b[35m0\u001b[0m>\n",
      "8 URSULA measures ALICEs lab (i.e. r) t:9\n",
      "State:\n",
      "1.0|0000\u001b[0m\u001b[31m0000\u001b[0m\u001b[34m0\u001b[0m\u001b[32m0\u001b[0m\u001b[35m0\u001b[0m>\n",
      "Quantum system reset to: 00000000000\n",
      "----- Case 1 -----\n",
      "0 Initialize R t:1\n",
      "State:\n",
      "0.58|0000\u001b[0m\u001b[31m0000\u001b[0m\u001b[34m0\u001b[0m\u001b[32m0\u001b[0m\u001b[35m0\u001b[0m> + 0.82|0000\u001b[0m\u001b[31m0000\u001b[0m\u001b[34m0\u001b[0m\u001b[32m1\u001b[0m\u001b[35m0\u001b[0m>\n",
      "1 ALICE observes R t:2\n",
      "State:\n",
      "0.58|0000\u001b[0m\u001b[31m0000\u001b[0m\u001b[34m0\u001b[0m\u001b[32m0\u001b[0m\u001b[35m0\u001b[0m> + 0.82|0001\u001b[0m\u001b[31m0000\u001b[0m\u001b[34m0\u001b[0m\u001b[32m1\u001b[0m\u001b[35m0\u001b[0m>\n",
      "2 ALICE makes an inference t:3\n",
      "State:\n",
      "0.58|0000\u001b[0m\u001b[31m0000\u001b[0m\u001b[34m0\u001b[0m\u001b[32m0\u001b[0m\u001b[35m0\u001b[0m> + 0.82|0001\u001b[0m\u001b[31m0000\u001b[0m\u001b[34m0\u001b[0m\u001b[32m1\u001b[0m\u001b[35m0\u001b[0m>\n",
      "3 Apply H to S controlled on ALICE_MEMORY t:4\n",
      "State:\n",
      "0.58|0000\u001b[0m\u001b[31m0000\u001b[0m\u001b[34m0\u001b[0m\u001b[32m0\u001b[0m\u001b[35m0\u001b[0m> + 0.58|0001\u001b[0m\u001b[31m0000\u001b[0m\u001b[34m0\u001b[0m\u001b[32m1\u001b[0m\u001b[35m0\u001b[0m> + 0.58|0001\u001b[0m\u001b[31m0000\u001b[0m\u001b[34m0\u001b[0m\u001b[32m1\u001b[0m\u001b[35m1\u001b[0m>\n",
      "4 BOB measures S t:5\n",
      "State:\n",
      "0.58|0000\u001b[0m\u001b[31m0000\u001b[0m\u001b[34m0\u001b[0m\u001b[32m0\u001b[0m\u001b[35m0\u001b[0m> + 0.58|0001\u001b[0m\u001b[31m0000\u001b[0m\u001b[34m0\u001b[0m\u001b[32m1\u001b[0m\u001b[35m0\u001b[0m> + 0.58|0001\u001b[0m\u001b[31m0001\u001b[0m\u001b[34m0\u001b[0m\u001b[32m1\u001b[0m\u001b[35m1\u001b[0m>\n",
      "Projecting to subspace Bob_memory=1\n",
      "1.0|0001\u001b[0m\u001b[31m0001\u001b[0m\u001b[34m0\u001b[0m\u001b[32m1\u001b[0m\u001b[35m1\u001b[0m>\n",
      "5 BOB makes an inference t:6\n",
      "State:\n",
      "1.0|0001\u001b[0m\u001b[31m0001\u001b[0m\u001b[34m0\u001b[0m\u001b[32m1\u001b[0m\u001b[35m1\u001b[0m>\n",
      "6 Reverse Alice reasoning (Step1: in ok --> 1(R) t:7\n",
      "State:\n",
      "1.0|0000\u001b[0m\u001b[31m0001\u001b[0m\u001b[34m0\u001b[0m\u001b[32m1\u001b[0m\u001b[35m1\u001b[0m>\n",
      "7 Perform Hadamard on R (Step2: in ok --> 1(R) t:8\n",
      "State:\n",
      "0.71|0000\u001b[0m\u001b[31m0001\u001b[0m\u001b[34m0\u001b[0m\u001b[32m0\u001b[0m\u001b[35m1\u001b[0m> + -0.71|0000\u001b[0m\u001b[31m0001\u001b[0m\u001b[34m0\u001b[0m\u001b[32m1\u001b[0m\u001b[35m1\u001b[0m>\n",
      "8 URSULA measures ALICEs lab (i.e. r) t:9\n",
      "State:\n",
      "0.71|0000\u001b[0m\u001b[31m0001\u001b[0m\u001b[34m0\u001b[0m\u001b[32m0\u001b[0m\u001b[35m1\u001b[0m> + -0.71|0000\u001b[0m\u001b[31m0001\u001b[0m\u001b[34m1\u001b[0m\u001b[32m1\u001b[0m\u001b[35m1\u001b[0m>\n",
      "Quantum system reset to: 00000000000\n"
     ]
    },
    {
     "data": {
      "text/plain": [
       "In:(Ursula_memory:t9) |  Out: (Bob_memory:t5)\n",
       "----------------------------------------------------\n",
       "           0          |        [0, 1]\n",
       "           1          |        [1]"
      ]
     },
     "execution_count": 13,
     "metadata": {},
     "output_type": "execute_result"
    }
   ],
   "source": [
    "TU = backward_inference(p_TU, \n",
    "                        subsys_x='Bob_memory', t_x=5, \n",
    "                        subsys_y='Ursula_memory', t_y=9, \n",
    "                        silent=False)\n",
    "TU"
   ]
  },
  {
   "cell_type": "markdown",
   "metadata": {},
   "source": [
    "## 6. Combining the inference tables with consistency"
   ]
  },
  {
   "cell_type": "code",
   "execution_count": 14,
   "metadata": {},
   "outputs": [
    {
     "name": "stdout",
     "output_type": "stream",
     "text": [
      "In:(Alice_memory:t2)  |  Out: (s:t13)\n",
      "--------------------------------------------\n",
      "           0          |        [0, 1]\n",
      "           1          |        [0]\n",
      "In:(Bob_memory:t5)    |  Out: (s:t13)\n",
      "--------------------------------------------\n",
      "           0          |        [0, 1]\n",
      "           1          |        [0]\n",
      "In:(Ursula_memory:t9) |  Out: (s:t13)\n",
      "--------------------------------------------\n",
      "           0          |        [0, 1]\n",
      "           1          |        [0]\n"
     ]
    }
   ],
   "source": [
    "from qthought.consistency import consistency\n",
    "\n",
    "TA_final = TA\n",
    "TB_final = consistency(TB, TA)\n",
    "TU_final = consistency(TU, TB_final)\n",
    "\n",
    "print(TA_final)\n",
    "print(TB_final)\n",
    "print(TU_final)"
   ]
  },
  {
   "cell_type": "markdown",
   "metadata": {},
   "source": [
    "## 7. Running the full protocol"
   ]
  },
  {
   "cell_type": "code",
   "execution_count": 15,
   "metadata": {},
   "outputs": [
    {
     "data": {
      "text/plain": [
       "Step 0: Initialize R(t:1)\n",
       "Step 1: ALICE observes R(t:2)\n",
       "Step 2: ALICE makes an inference(t:3)\n",
       "Step 3: Apply H to S controlled on ALICE_MEMORY(t:4)\n",
       "Step 4: BOB measures S(t:5)\n",
       "Step 5: BOB makes an inference(t:6)\n",
       "Step 6: Reverse Alice reasoning (Step1: in ok --> 1(R)(t:7)\n",
       "Step 7: Perform Hadamard on R (Step2: in ok --> 1(R)(t:8)\n",
       "Step 8: URSULA measures ALICEs lab (i.e. r)(t:9)\n",
       "Step 9: URSULA makes inference(t:10)\n",
       "Step 10: Reverse BOBs inference procedure(t:12)\n",
       "Step 11: Apply Hadamard on S, i.e. transform system S+BOB:  ok --> 1(s) (t:13)\n",
       "\n",
       "Requirements: \n",
       "------------------------------\n",
       "Qubit             ['s', 'r']\n",
       "Agent(1,1)        ['Bob', 'Alice', 'Ursula']"
      ]
     },
     "execution_count": 15,
     "metadata": {},
     "output_type": "execute_result"
    }
   ],
   "source": [
    "steps = [step1, step2, step3, step4, step5,\n",
    "         step6, step7, step8, step9, step10,\n",
    "         step12, step13]\n",
    "p = sum(steps)\n",
    "p"
   ]
  },
  {
   "cell_type": "code",
   "execution_count": 19,
   "metadata": {},
   "outputs": [
    {
     "name": "stdout",
     "output_type": "stream",
     "text": [
      "----------------------------------------------------------------------\n",
      "Requiring quantum system:\n",
      "Require Qubit s\n",
      "Require Qubit r\n",
      "Require Agent(1,1) Bob\n",
      "Require Agent(1,1) Alice\n",
      "Require Agent(1,1) Ursula\n",
      "1.0|0000\u001b[0m\u001b[31m0000\u001b[0m\u001b[34m0000\u001b[0m\u001b[32m0\u001b[0m\u001b[35m0\u001b[0m>\n",
      "----------------------------------------------------------------------\n",
      "Initialize inference system\n",
      "1.0|0100\u001b[0m\u001b[31m0100\u001b[0m\u001b[34m0100\u001b[0m\u001b[32m0\u001b[0m\u001b[35m0\u001b[0m>\n",
      "----------------------------------------------------------------------\n",
      "Run protocol:\n",
      "----------------------------------------------------------------------\n",
      "Final Wavefunction before measurements:\n",
      "-0.29|0101\u001b[0m\u001b[31m0100\u001b[0m\u001b[34m0100\u001b[0m\u001b[32m1\u001b[0m\u001b[35m0\u001b[0m> + 0.29|0101\u001b[0m\u001b[31m0100\u001b[0m\u001b[34m0100\u001b[0m\u001b[32m1\u001b[0m\u001b[35m1\u001b[0m> + 0.87|0110\u001b[0m\u001b[31m0100\u001b[0m\u001b[34m0100\u001b[0m\u001b[32m0\u001b[0m\u001b[35m0\u001b[0m> + 0.29|0110\u001b[0m\u001b[31m0100\u001b[0m\u001b[34m0100\u001b[0m\u001b[32m0\u001b[0m\u001b[35m1\u001b[0m>\n",
      "----------------------------------------------------------------------\n",
      "Perform final measurements:\n",
      "Measure Ursulas meomry:\n",
      "-0.71|0101\u001b[0m\u001b[31m0100\u001b[0m\u001b[34m0100\u001b[0m\u001b[32m1\u001b[0m\u001b[35m0\u001b[0m> + 0.71|0101\u001b[0m\u001b[31m0100\u001b[0m\u001b[34m0100\u001b[0m\u001b[32m1\u001b[0m\u001b[35m1\u001b[0m>\n",
      "Measure Ursulas prediction:\n",
      "-0.71|0101\u001b[0m\u001b[31m0100\u001b[0m\u001b[34m0100\u001b[0m\u001b[32m1\u001b[0m\u001b[35m0\u001b[0m> + 0.71|0101\u001b[0m\u001b[31m0100\u001b[0m\u001b[34m0100\u001b[0m\u001b[32m1\u001b[0m\u001b[35m1\u001b[0m>\n",
      "Measure s:\n",
      "1.0|0101\u001b[0m\u001b[31m0100\u001b[0m\u001b[34m0100\u001b[0m\u001b[32m1\u001b[0m\u001b[35m1\u001b[0m>\n",
      "['Ursula', 'Alice', 'Bob', 'r', 's']\n",
      "----------------------------------------------------------------------\n",
      "Analysis of winning condition:\n",
      "Ursula observes ok_bar\n",
      "Ursula predicts fail\n",
      "Wigner observes ok\n",
      "XXXXX Winning condition satisfied XXXXXX\n"
     ]
    }
   ],
   "source": [
    "print('-'*70)\n",
    "print('Requiring quantum system:')\n",
    "qsys = QuantumSystem(p.get_requirements())\n",
    "no_prediction_state = 1\n",
    "qsys.print_wavefunction()\n",
    "\n",
    "print('-'*70)\n",
    "print('Initialize inference system')\n",
    "qsys['Alice'].set_inference_table(TA_final, no_prediction_state)\n",
    "qsys['Bob'].set_inference_table(TB_final, no_prediction_state)\n",
    "qsys['Ursula'].set_inference_table(TU_final, no_prediction_state)\n",
    "\n",
    "qsys['Alice'].prep_inference()\n",
    "qsys['Bob'].prep_inference()\n",
    "qsys['Ursula'].prep_inference()\n",
    "qsys.print_wavefunction()\n",
    "\n",
    "print('-'*70)\n",
    "print('Run protocol:')\n",
    "p.run(qsys, silent=True)\n",
    "\n",
    "print('-'*70)\n",
    "print('Final Wavefunction before measurements:')\n",
    "qsys.print_wavefunction()\n",
    "\n",
    "print('-'*70)\n",
    "print('Perform final measurements:')\n",
    "\n",
    "print('Measure Ursulas meomry:')\n",
    "Measure | qsys['Ursula_memory']\n",
    "qsys.print_wavefunction()\n",
    "ok_bar = bool(int(qsys.readout('Ursula_memory')))\n",
    "#print('ok_bar=',ok_bar)\n",
    "\n",
    "print('Measure Ursulas prediction:')\n",
    "Measure | qsys['Ursula_prediction']\n",
    "qsys.print_wavefunction()\n",
    "#print(readout(qsys['Ursula_prediction']))\n",
    "U_predicts_fail = bool(1 - int(qsys.readout('Ursula_prediction')))\n",
    "#print('U_predicts_fail=',U_predicts_fail)\n",
    "\n",
    "print('Measure s:')\n",
    "Measure | qsys['s']\n",
    "qsys.print_wavefunction()\n",
    "ok = bool(int(qsys.readout('s')))\n",
    "#print('ok=',ok)\n",
    "\n",
    "print(qsys.subsystems[::-1])\n",
    "del qsys\n",
    "\n",
    "print('-'*70)\n",
    "print('Analysis of winning condition:')\n",
    "if ok_bar:\n",
    "    print('Ursula observes ok_bar')\n",
    "else:\n",
    "    print('Ursula observes fail_bar' )\n",
    "\n",
    "\n",
    "if U_predicts_fail:\n",
    "    print('Ursula predicts fail')\n",
    "else:\n",
    "    print('Ursula does not know Alices prediction' )\n",
    "    \n",
    "if ok:\n",
    "    print('Wigner observes ok')\n",
    "else:\n",
    "    print('Wigner observes fail' ) \n",
    "    \n",
    "if ok and ok_bar:\n",
    "    print('XXXXX Winning condition satisfied XXXXXX')"
   ]
  },
  {
   "cell_type": "code",
   "execution_count": 26,
   "metadata": {},
   "outputs": [],
   "source": [
    "from qthought.protocol import Protocol"
   ]
  },
  {
   "cell_type": "code",
   "execution_count": 22,
   "metadata": {},
   "outputs": [],
   "source": [
    "from qthought.requirements import Requirements"
   ]
  },
  {
   "cell_type": "code",
   "execution_count": 30,
   "metadata": {},
   "outputs": [],
   "source": [
    "InferenceTable??"
   ]
  },
  {
   "cell_type": "code",
   "execution_count": null,
   "metadata": {},
   "outputs": [],
   "source": []
  },
  {
   "cell_type": "code",
   "execution_count": null,
   "metadata": {},
   "outputs": [],
   "source": []
  }
 ],
 "metadata": {
  "kernelspec": {
   "display_name": "Python 3",
   "language": "python",
   "name": "python3"
  },
  "language_info": {
   "codemirror_mode": {
    "name": "ipython",
    "version": 3
   },
   "file_extension": ".py",
   "mimetype": "text/x-python",
   "name": "python",
   "nbconvert_exporter": "python",
   "pygments_lexer": "ipython3",
   "version": "3.6.7"
  }
 },
 "nbformat": 4,
 "nbformat_minor": 2
}
